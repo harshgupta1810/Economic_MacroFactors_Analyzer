{
 "cells": [
  {
   "cell_type": "code",
   "execution_count": 1,
   "outputs": [],
   "source": [
    "import time\n",
    "import yfinance as yf\n",
    "import pandas_datareader as pdr\n",
    "from selenium import webdriver\n",
    "from selenium.webdriver.common.by import By\n",
    "from selenium.webdriver.chrome.service import Service\n",
    "from datetime import date\n",
    "from tqdm import tqdm\n",
    "import pandas as pd\n",
    "import numpy as np\n",
    "import pickle"
   ],
   "metadata": {
    "collapsed": false,
    "pycharm": {
     "name": "#%%\n"
    }
   }
  },
  {
   "cell_type": "markdown",
   "source": [
    "Factors which we are going to taking\n",
    "1. Index : Dow, S&P, NASDAQ, Nifty, Sgx Nifty,dollar index,\n",
    "2. Growth : Us GDP, world GDP, Indian GDP, Indian PMI, us pmi\n",
    "3. Infraction : US cpi, US Core CPI, India CPI, India core cpi\n",
    "4. Rates : Fed intrest rates, rbi repo rate\n",
    "5. Emp : US unemprate, india unemp , joblessclam us\n",
    "6. household data :india avg fd rates, india bonds and debt fund returns\n",
    "7. others :brent oil, leading us etf and foregin index,inr/usd, gold price, us bond yelid(10y and 2y), india vix, major mf, fii data"
   ],
   "metadata": {
    "collapsed": false
   }
  },
  {
   "cell_type": "code",
   "execution_count": 2,
   "outputs": [
    {
     "name": "stdout",
     "output_type": "stream",
     "text": [
      "[*********************100%***********************]  1 of 1 completed\n",
      "[*********************100%***********************]  1 of 1 completed\n",
      "[*********************100%***********************]  1 of 1 completed\n",
      "[*********************100%***********************]  1 of 1 completed\n",
      "[*********************100%***********************]  1 of 1 completed\n",
      "[*********************100%***********************]  1 of 1 completed\n",
      "[*********************100%***********************]  1 of 1 completed\n",
      "[*********************100%***********************]  1 of 1 completed\n",
      "[*********************100%***********************]  1 of 1 completed\n"
     ]
    }
   ],
   "source": [
    "tickers = ['^NSEI','^DJI', '^GSPC', '^IXIC','BZ=F','^TNX','GC=F','INR=X','DX-Y.NYB']\n",
    "df1 = pd.DataFrame()\n",
    "# Loop through each ticker symbol\n",
    "end = date.today()\n",
    "start = date(year=end.year-16, month=end.month, day=end.day)\n",
    "for ticker in tickers:\n",
    "    # Download the historical data for the ticker\n",
    "    data = yf.download(ticker, start=start, end=end)\n",
    "    df1[ticker] = data['Close']\n",
    "# Convert the index to a datetime format\n",
    "df1.index = pd.to_datetime(df1.index, errors='coerce')\n",
    "# Convert the index to a string format\n",
    "df1.index = df1.index.strftime('%d-%m-%y')\n",
    "df1 = df1.rename(columns={'^DJI': 'Dow_Jons', '^GSPC' : 'S&P_500', '^IXIC' : 'NASDAQ', 'BZ=F' : 'BRENT','^TNX' : 'BOND_10Y',\n",
    "                 'GC=F' : 'Gold','INR=X' : 'Inr_Usd','^NSEI' : 'Nifty_50','DX-Y.NYB' : 'Dollar_Index'})"
   ],
   "metadata": {
    "collapsed": false,
    "pycharm": {
     "name": "#%%\n"
    }
   }
  },
  {
   "cell_type": "code",
   "execution_count": 3,
   "outputs": [],
   "source": [
    "df1 = df1.dropna()"
   ],
   "metadata": {
    "collapsed": false,
    "pycharm": {
     "name": "#%%\n"
    }
   }
  },
  {
   "cell_type": "code",
   "execution_count": 4,
   "outputs": [
    {
     "name": "stderr",
     "output_type": "stream",
     "text": [
      "Downloading stats from FRED:: 100%|██████████| 6/6 [00:02<00:00,  2.39it/s]\n"
     ]
    }
   ],
   "source": [
    "df2 = pd.DataFrame()\n",
    "FRED_INDICATORS1 = ['UNRATE','CPALTT01USM659N', 'FEDFUNDS','UNRATE','CPALTT01INM659N','INDIRLTLT01STM']\n",
    "end = date.today()\n",
    "start = date(year=end.year-16, month=end.month, day=end.day)\n",
    "tq_fred1 = tqdm(FRED_INDICATORS1)\n",
    "tq_fred1.set_description('Downloading stats from FRED:')\n",
    "for indicator in tq_fred1:\n",
    "  df2[indicator] = pdr.fred.FredReader(indicator, start=start, timeout=90).read()\n",
    "df2.index = pd.to_datetime(df2.index, errors='coerce')\n",
    "df2.index = df2.index.strftime('%d-%m-%y')\n",
    "df2 = df2.rename(columns={'UNRATE': 'us_unemployment',\n",
    "                 'CPALTT01USM659N': 'US_CPI','INDIRLTLT01STM' : 'bond_Return','FEDFUNDS': 'FED_RATE',\n",
    "                 'CPALTT01INM659N': 'india_cpi',\n",
    "              })\n",
    "df2 = pd.DataFrame(df2)"
   ],
   "metadata": {
    "collapsed": false,
    "pycharm": {
     "name": "#%%\n"
    }
   }
  },
  {
   "cell_type": "code",
   "execution_count": 5,
   "outputs": [
    {
     "data": {
      "text/plain": "          us_unemployment    US_CPI  FED_RATE  india_cpi  bond_Return\nDATE                                                                 \n01-06-07              4.6  2.687038      5.25   5.691057         0.00\n01-07-07              4.7  2.358231      5.26   6.451613         0.00\n01-08-07              4.6  1.970083      5.02   7.258065         0.00\n01-09-07              4.7  2.755052      4.94   6.400000         0.00\n01-10-07              4.7  3.536174      4.76   5.511811         0.00\n...                   ...       ...       ...        ...          ...\n01-10-22              3.7  7.745427      3.08   6.084868         7.46\n01-11-22              3.6  7.110323      3.78   5.409706         7.36\n01-12-22              3.5  6.454401      4.10   5.502392         7.29\n01-01-23              3.4  6.410147      4.33   6.155076         7.39\n01-02-23              3.6  6.035613      4.57   6.160000         7.34\n\n[189 rows x 5 columns]",
      "text/html": "<div>\n<style scoped>\n    .dataframe tbody tr th:only-of-type {\n        vertical-align: middle;\n    }\n\n    .dataframe tbody tr th {\n        vertical-align: top;\n    }\n\n    .dataframe thead th {\n        text-align: right;\n    }\n</style>\n<table border=\"1\" class=\"dataframe\">\n  <thead>\n    <tr style=\"text-align: right;\">\n      <th></th>\n      <th>us_unemployment</th>\n      <th>US_CPI</th>\n      <th>FED_RATE</th>\n      <th>india_cpi</th>\n      <th>bond_Return</th>\n    </tr>\n    <tr>\n      <th>DATE</th>\n      <th></th>\n      <th></th>\n      <th></th>\n      <th></th>\n      <th></th>\n    </tr>\n  </thead>\n  <tbody>\n    <tr>\n      <th>01-06-07</th>\n      <td>4.6</td>\n      <td>2.687038</td>\n      <td>5.25</td>\n      <td>5.691057</td>\n      <td>0.00</td>\n    </tr>\n    <tr>\n      <th>01-07-07</th>\n      <td>4.7</td>\n      <td>2.358231</td>\n      <td>5.26</td>\n      <td>6.451613</td>\n      <td>0.00</td>\n    </tr>\n    <tr>\n      <th>01-08-07</th>\n      <td>4.6</td>\n      <td>1.970083</td>\n      <td>5.02</td>\n      <td>7.258065</td>\n      <td>0.00</td>\n    </tr>\n    <tr>\n      <th>01-09-07</th>\n      <td>4.7</td>\n      <td>2.755052</td>\n      <td>4.94</td>\n      <td>6.400000</td>\n      <td>0.00</td>\n    </tr>\n    <tr>\n      <th>01-10-07</th>\n      <td>4.7</td>\n      <td>3.536174</td>\n      <td>4.76</td>\n      <td>5.511811</td>\n      <td>0.00</td>\n    </tr>\n    <tr>\n      <th>...</th>\n      <td>...</td>\n      <td>...</td>\n      <td>...</td>\n      <td>...</td>\n      <td>...</td>\n    </tr>\n    <tr>\n      <th>01-10-22</th>\n      <td>3.7</td>\n      <td>7.745427</td>\n      <td>3.08</td>\n      <td>6.084868</td>\n      <td>7.46</td>\n    </tr>\n    <tr>\n      <th>01-11-22</th>\n      <td>3.6</td>\n      <td>7.110323</td>\n      <td>3.78</td>\n      <td>5.409706</td>\n      <td>7.36</td>\n    </tr>\n    <tr>\n      <th>01-12-22</th>\n      <td>3.5</td>\n      <td>6.454401</td>\n      <td>4.10</td>\n      <td>5.502392</td>\n      <td>7.29</td>\n    </tr>\n    <tr>\n      <th>01-01-23</th>\n      <td>3.4</td>\n      <td>6.410147</td>\n      <td>4.33</td>\n      <td>6.155076</td>\n      <td>7.39</td>\n    </tr>\n    <tr>\n      <th>01-02-23</th>\n      <td>3.6</td>\n      <td>6.035613</td>\n      <td>4.57</td>\n      <td>6.160000</td>\n      <td>7.34</td>\n    </tr>\n  </tbody>\n</table>\n<p>189 rows × 5 columns</p>\n</div>"
     },
     "execution_count": 5,
     "metadata": {},
     "output_type": "execute_result"
    }
   ],
   "source": [
    "df2.fillna(0, inplace=True)\n",
    "df2 = df2.drop(df2.index[-1])\n",
    "df2"
   ],
   "metadata": {
    "collapsed": false,
    "pycharm": {
     "name": "#%%\n"
    }
   }
  },
  {
   "cell_type": "code",
   "execution_count": 6,
   "outputs": [],
   "source": [
    "def scrapping(url):\n",
    "    s = Service('D:\\\\python projects\\\\stock market pricticor\\\\fundamandel data\\\\chromedriver.exe')\n",
    "    driver = webdriver.Chrome(service=s)\n",
    "    driver.get(url)\n",
    "    time.sleep(10)\n",
    "    table_element = driver.find_element(By.XPATH,\"//*[@id='js-main-container']/section[2]/div/section[2]/section[2]/div[1]\" )\n",
    "    table_html = table_element.get_attribute('outerHTML')\n",
    "    a = pd.DataFrame()\n",
    "    a = pd.read_html(table_html)[0]\n",
    "    a['Date'] = pd.to_datetime(a['Date'], errors='coerce')\n",
    "    a['Date'] = a['Date'].dt.strftime('%d-%m-%y')\n",
    "    a = a.loc[:, ['Date', 'Price']]\n",
    "    a= a.reindex(index=a.index[::-1])\n",
    "    a=a.reset_index(drop=True)\n",
    "    a.set_index('Date', inplace=True)\n",
    "    driver.close()\n",
    "    return a"
   ],
   "metadata": {
    "collapsed": false,
    "pycharm": {
     "name": "#%%\n"
    }
   }
  },
  {
   "cell_type": "code",
   "execution_count": 7,
   "outputs": [],
   "source": [
    "url1 = 'https://in.investing.com/indices/india-50-futures-historical-data?cid=101810&end_date=1680852705&st_date=694204200'\n",
    "url2 = 'https://in.investing.com/indices/india-vix-historical-data?end_date=1680855763&st_date=946665000'"
   ],
   "metadata": {
    "collapsed": false,
    "pycharm": {
     "name": "#%%\n"
    }
   }
  },
  {
   "cell_type": "code",
   "execution_count": 8,
   "outputs": [],
   "source": [
    "a =scrapping(url1)\n",
    "b = scrapping(url2)"
   ],
   "metadata": {
    "collapsed": false,
    "pycharm": {
     "name": "#%%\n"
    }
   }
  },
  {
   "cell_type": "code",
   "execution_count": 9,
   "outputs": [],
   "source": [
    "a = a.rename(columns={'Price' : 'sgx'})\n",
    "b = b.rename(columns={'Price' : 'indiavix'})"
   ],
   "metadata": {
    "collapsed": false,
    "pycharm": {
     "name": "#%%\n"
    }
   }
  },
  {
   "cell_type": "code",
   "execution_count": 10,
   "outputs": [
    {
     "data": {
      "text/plain": "              Nifty_50      Dow_Jons      S&P_500        NASDAQ       BRENT  \\\nDate                                                                          \n04-03-08   4864.250000  12213.799805  1326.750000   2260.280029   97.519997   \n05-03-08   4921.399902  12254.990234  1333.699951   2272.810059  101.639999   \n07-03-08   4771.600098  11893.690430  1293.369995   2212.489990  102.379997   \n10-03-08   4800.399902  11740.150391  1273.369995   2169.340088  104.160004   \n11-03-08   4865.899902  12156.809570  1320.650024   2255.760010  105.250000   \n...                ...           ...          ...           ...         ...   \n29-03-23  17080.699219  32717.599609  4027.810059  11926.240234   78.279999   \n31-03-23  17359.750000  33274.148438  4109.310059  12221.910156   79.769997   \n03-04-23  17398.050781  33601.148438  4124.509766  12189.450195   84.930000   \n05-04-23  17557.050781  33482.718750  4090.379883  11996.860352   84.989998   \n06-04-23  17599.150391  33485.289062  4105.020020  12087.959961   85.120003   \n\n          BOND_10Y         Gold    Inr_Usd  Dollar_Index      sgx  indiavix  \nDate                                                                         \n04-03-08     3.579   963.900024  40.209000     73.660004   4852.0   38.0800  \n05-03-08     3.693   986.200012  40.174000     73.480003   4915.0   35.5100  \n07-03-08     3.541   972.200012  40.238998     73.029999   4706.0   35.2000  \n10-03-08     3.438   969.900024  40.313999     72.989998   4706.0   32.5800  \n11-03-08     3.596   974.200012  40.174999     73.279999   4846.5   32.6900  \n...            ...          ...        ...           ...      ...       ...  \n29-03-23     3.566  1966.099976  82.164299    102.639999  17200.0   13.6275  \n31-03-23     3.494  1969.000000  82.100502    102.510002  17480.5   12.9350  \n03-04-23     3.430  1983.900024  82.184799    102.089996  17456.5   12.5850  \n05-04-23     3.287  2020.900024  82.114799    101.849998  17590.0   12.4125  \n06-04-23     3.288  2011.900024  81.949997    101.820000  17680.5   11.7975  \n\n[3515 rows x 11 columns]",
      "text/html": "<div>\n<style scoped>\n    .dataframe tbody tr th:only-of-type {\n        vertical-align: middle;\n    }\n\n    .dataframe tbody tr th {\n        vertical-align: top;\n    }\n\n    .dataframe thead th {\n        text-align: right;\n    }\n</style>\n<table border=\"1\" class=\"dataframe\">\n  <thead>\n    <tr style=\"text-align: right;\">\n      <th></th>\n      <th>Nifty_50</th>\n      <th>Dow_Jons</th>\n      <th>S&amp;P_500</th>\n      <th>NASDAQ</th>\n      <th>BRENT</th>\n      <th>BOND_10Y</th>\n      <th>Gold</th>\n      <th>Inr_Usd</th>\n      <th>Dollar_Index</th>\n      <th>sgx</th>\n      <th>indiavix</th>\n    </tr>\n    <tr>\n      <th>Date</th>\n      <th></th>\n      <th></th>\n      <th></th>\n      <th></th>\n      <th></th>\n      <th></th>\n      <th></th>\n      <th></th>\n      <th></th>\n      <th></th>\n      <th></th>\n    </tr>\n  </thead>\n  <tbody>\n    <tr>\n      <th>04-03-08</th>\n      <td>4864.250000</td>\n      <td>12213.799805</td>\n      <td>1326.750000</td>\n      <td>2260.280029</td>\n      <td>97.519997</td>\n      <td>3.579</td>\n      <td>963.900024</td>\n      <td>40.209000</td>\n      <td>73.660004</td>\n      <td>4852.0</td>\n      <td>38.0800</td>\n    </tr>\n    <tr>\n      <th>05-03-08</th>\n      <td>4921.399902</td>\n      <td>12254.990234</td>\n      <td>1333.699951</td>\n      <td>2272.810059</td>\n      <td>101.639999</td>\n      <td>3.693</td>\n      <td>986.200012</td>\n      <td>40.174000</td>\n      <td>73.480003</td>\n      <td>4915.0</td>\n      <td>35.5100</td>\n    </tr>\n    <tr>\n      <th>07-03-08</th>\n      <td>4771.600098</td>\n      <td>11893.690430</td>\n      <td>1293.369995</td>\n      <td>2212.489990</td>\n      <td>102.379997</td>\n      <td>3.541</td>\n      <td>972.200012</td>\n      <td>40.238998</td>\n      <td>73.029999</td>\n      <td>4706.0</td>\n      <td>35.2000</td>\n    </tr>\n    <tr>\n      <th>10-03-08</th>\n      <td>4800.399902</td>\n      <td>11740.150391</td>\n      <td>1273.369995</td>\n      <td>2169.340088</td>\n      <td>104.160004</td>\n      <td>3.438</td>\n      <td>969.900024</td>\n      <td>40.313999</td>\n      <td>72.989998</td>\n      <td>4706.0</td>\n      <td>32.5800</td>\n    </tr>\n    <tr>\n      <th>11-03-08</th>\n      <td>4865.899902</td>\n      <td>12156.809570</td>\n      <td>1320.650024</td>\n      <td>2255.760010</td>\n      <td>105.250000</td>\n      <td>3.596</td>\n      <td>974.200012</td>\n      <td>40.174999</td>\n      <td>73.279999</td>\n      <td>4846.5</td>\n      <td>32.6900</td>\n    </tr>\n    <tr>\n      <th>...</th>\n      <td>...</td>\n      <td>...</td>\n      <td>...</td>\n      <td>...</td>\n      <td>...</td>\n      <td>...</td>\n      <td>...</td>\n      <td>...</td>\n      <td>...</td>\n      <td>...</td>\n      <td>...</td>\n    </tr>\n    <tr>\n      <th>29-03-23</th>\n      <td>17080.699219</td>\n      <td>32717.599609</td>\n      <td>4027.810059</td>\n      <td>11926.240234</td>\n      <td>78.279999</td>\n      <td>3.566</td>\n      <td>1966.099976</td>\n      <td>82.164299</td>\n      <td>102.639999</td>\n      <td>17200.0</td>\n      <td>13.6275</td>\n    </tr>\n    <tr>\n      <th>31-03-23</th>\n      <td>17359.750000</td>\n      <td>33274.148438</td>\n      <td>4109.310059</td>\n      <td>12221.910156</td>\n      <td>79.769997</td>\n      <td>3.494</td>\n      <td>1969.000000</td>\n      <td>82.100502</td>\n      <td>102.510002</td>\n      <td>17480.5</td>\n      <td>12.9350</td>\n    </tr>\n    <tr>\n      <th>03-04-23</th>\n      <td>17398.050781</td>\n      <td>33601.148438</td>\n      <td>4124.509766</td>\n      <td>12189.450195</td>\n      <td>84.930000</td>\n      <td>3.430</td>\n      <td>1983.900024</td>\n      <td>82.184799</td>\n      <td>102.089996</td>\n      <td>17456.5</td>\n      <td>12.5850</td>\n    </tr>\n    <tr>\n      <th>05-04-23</th>\n      <td>17557.050781</td>\n      <td>33482.718750</td>\n      <td>4090.379883</td>\n      <td>11996.860352</td>\n      <td>84.989998</td>\n      <td>3.287</td>\n      <td>2020.900024</td>\n      <td>82.114799</td>\n      <td>101.849998</td>\n      <td>17590.0</td>\n      <td>12.4125</td>\n    </tr>\n    <tr>\n      <th>06-04-23</th>\n      <td>17599.150391</td>\n      <td>33485.289062</td>\n      <td>4105.020020</td>\n      <td>12087.959961</td>\n      <td>85.120003</td>\n      <td>3.288</td>\n      <td>2011.900024</td>\n      <td>81.949997</td>\n      <td>101.820000</td>\n      <td>17680.5</td>\n      <td>11.7975</td>\n    </tr>\n  </tbody>\n</table>\n<p>3515 rows × 11 columns</p>\n</div>"
     },
     "execution_count": 10,
     "metadata": {},
     "output_type": "execute_result"
    }
   ],
   "source": [
    "df1 = pd.concat([df1, a, b], axis=1)\n",
    "df1 = df1.dropna()\n",
    "df1"
   ],
   "metadata": {
    "collapsed": false,
    "pycharm": {
     "name": "#%%\n"
    }
   }
  },
  {
   "cell_type": "code",
   "execution_count": 11,
   "outputs": [
    {
     "data": {
      "text/plain": "Index(['Nifty_50', 'Dow_Jons', 'S&P_500', 'NASDAQ', 'BRENT', 'BOND_10Y',\n       'Gold', 'Inr_Usd', 'Dollar_Index', 'sgx', 'indiavix'],\n      dtype='object')"
     },
     "execution_count": 11,
     "metadata": {},
     "output_type": "execute_result"
    }
   ],
   "source": [
    "df1.columns"
   ],
   "metadata": {
    "collapsed": false,
    "pycharm": {
     "name": "#%%\n"
    }
   }
  },
  {
   "cell_type": "code",
   "execution_count": 12,
   "outputs": [
    {
     "data": {
      "text/plain": "              Nifty_50      Dow_Jons      S&P_500        NASDAQ       BRENT  \\\nDate                                                                          \n04-03-08   4864.250000  12213.799805  1326.750000   2260.280029   97.519997   \n05-03-08   4921.399902  12254.990234  1333.699951   2272.810059  101.639999   \n07-03-08   4771.600098  11893.690430  1293.369995   2212.489990  102.379997   \n10-03-08   4800.399902  11740.150391  1273.369995   2169.340088  104.160004   \n11-03-08   4865.899902  12156.809570  1320.650024   2255.760010  105.250000   \n...                ...           ...          ...           ...         ...   \n29-03-23  17080.699219  32717.599609  4027.810059  11926.240234   78.279999   \n31-03-23  17359.750000  33274.148438  4109.310059  12221.910156   79.769997   \n03-04-23  17398.050781  33601.148438  4124.509766  12189.450195   84.930000   \n05-04-23  17557.050781  33482.718750  4090.379883  11996.860352   84.989998   \n06-04-23  17599.150391  33485.289062  4105.020020  12087.959961   85.120003   \n\n          BOND_10Y         Gold    Inr_Usd  Dollar_Index      sgx  ...  \\\nDate                                                               ...   \n04-03-08     3.579   963.900024  40.209000     73.660004   4852.0  ...   \n05-03-08     3.693   986.200012  40.174000     73.480003   4915.0  ...   \n07-03-08     3.541   972.200012  40.238998     73.029999   4706.0  ...   \n10-03-08     3.438   969.900024  40.313999     72.989998   4706.0  ...   \n11-03-08     3.596   974.200012  40.174999     73.279999   4846.5  ...   \n...            ...          ...        ...           ...      ...  ...   \n29-03-23     3.566  1966.099976  82.164299    102.639999  17200.0  ...   \n31-03-23     3.494  1969.000000  82.100502    102.510002  17480.5  ...   \n03-04-23     3.430  1983.900024  82.184799    102.089996  17456.5  ...   \n05-04-23     3.287  2020.900024  82.114799    101.849998  17590.0  ...   \n06-04-23     3.288  2011.900024  81.949997    101.820000  17680.5  ...   \n\n          Dollar_Index_1m_return  Dollar_Index_1y_return  sgx_1d_return  \\\nDate                                                                      \n04-03-08                     NaN                     NaN            NaN   \n05-03-08                     NaN                     NaN            NaN   \n07-03-08                     NaN                     NaN      -4.274937   \n10-03-08                     NaN                     NaN      -1.000000   \n11-03-08                     NaN                     NaN            inf   \n...                          ...                     ...            ...   \n29-03-23               -1.839739                0.030582      -3.567208   \n31-03-23               -1.808875               -0.215949       0.322594   \n03-04-23               -1.743663               -0.428063      -1.084189   \n05-04-23               -1.938354               -0.581317      -6.570148   \n06-04-23               -2.744984               -0.694032      -0.327242   \n\n          sgx_7d_return  sgx_1m_return  sgx_1y_return  indiavix_1d_return  \\\nDate                                                                        \n04-03-08            NaN            NaN            NaN                 NaN   \n05-03-08            NaN            NaN            NaN                 NaN   \n07-03-08            NaN            NaN            NaN           -0.870647   \n10-03-08            NaN            NaN            NaN            7.526045   \n11-03-08            NaN            NaN            NaN           -1.045361   \n...                 ...            ...            ...                 ...   \n29-03-23      -0.309082      -0.435016      -1.098680            3.365632   \n31-03-23      -6.471258      -0.830032      -0.995031           -0.478895   \n03-04-23     -56.891259      -0.967791      -1.085774           -0.467526   \n05-04-23     -15.816026      -3.939472      -1.122229           -0.493436   \n06-04-23      -5.040611       5.035176      -1.085043            2.614764   \n\n          indiavix_7d_return  indiavix_1m_return  indiavix_1y_return  \nDate                                                                  \n04-03-08                 NaN                 NaN                 NaN  \n05-03-08                 NaN                 NaN                 NaN  \n07-03-08                 NaN                 NaN                 NaN  \n10-03-08                 NaN                 NaN                 NaN  \n11-03-08                 NaN                 NaN                 NaN  \n...                      ...                 ...                 ...  \n29-03-23           -0.127033           -0.865636          -56.521208  \n31-03-23            0.007460           -0.979919           89.076748  \n03-04-23           -6.444835           -0.869266            3.085447  \n05-04-23            4.587453           -1.084536            0.968230  \n06-04-23         -189.495577           -0.741030            2.205649  \n\n[3515 rows x 55 columns]",
      "text/html": "<div>\n<style scoped>\n    .dataframe tbody tr th:only-of-type {\n        vertical-align: middle;\n    }\n\n    .dataframe tbody tr th {\n        vertical-align: top;\n    }\n\n    .dataframe thead th {\n        text-align: right;\n    }\n</style>\n<table border=\"1\" class=\"dataframe\">\n  <thead>\n    <tr style=\"text-align: right;\">\n      <th></th>\n      <th>Nifty_50</th>\n      <th>Dow_Jons</th>\n      <th>S&amp;P_500</th>\n      <th>NASDAQ</th>\n      <th>BRENT</th>\n      <th>BOND_10Y</th>\n      <th>Gold</th>\n      <th>Inr_Usd</th>\n      <th>Dollar_Index</th>\n      <th>sgx</th>\n      <th>...</th>\n      <th>Dollar_Index_1m_return</th>\n      <th>Dollar_Index_1y_return</th>\n      <th>sgx_1d_return</th>\n      <th>sgx_7d_return</th>\n      <th>sgx_1m_return</th>\n      <th>sgx_1y_return</th>\n      <th>indiavix_1d_return</th>\n      <th>indiavix_7d_return</th>\n      <th>indiavix_1m_return</th>\n      <th>indiavix_1y_return</th>\n    </tr>\n    <tr>\n      <th>Date</th>\n      <th></th>\n      <th></th>\n      <th></th>\n      <th></th>\n      <th></th>\n      <th></th>\n      <th></th>\n      <th></th>\n      <th></th>\n      <th></th>\n      <th></th>\n      <th></th>\n      <th></th>\n      <th></th>\n      <th></th>\n      <th></th>\n      <th></th>\n      <th></th>\n      <th></th>\n      <th></th>\n      <th></th>\n    </tr>\n  </thead>\n  <tbody>\n    <tr>\n      <th>04-03-08</th>\n      <td>4864.250000</td>\n      <td>12213.799805</td>\n      <td>1326.750000</td>\n      <td>2260.280029</td>\n      <td>97.519997</td>\n      <td>3.579</td>\n      <td>963.900024</td>\n      <td>40.209000</td>\n      <td>73.660004</td>\n      <td>4852.0</td>\n      <td>...</td>\n      <td>NaN</td>\n      <td>NaN</td>\n      <td>NaN</td>\n      <td>NaN</td>\n      <td>NaN</td>\n      <td>NaN</td>\n      <td>NaN</td>\n      <td>NaN</td>\n      <td>NaN</td>\n      <td>NaN</td>\n    </tr>\n    <tr>\n      <th>05-03-08</th>\n      <td>4921.399902</td>\n      <td>12254.990234</td>\n      <td>1333.699951</td>\n      <td>2272.810059</td>\n      <td>101.639999</td>\n      <td>3.693</td>\n      <td>986.200012</td>\n      <td>40.174000</td>\n      <td>73.480003</td>\n      <td>4915.0</td>\n      <td>...</td>\n      <td>NaN</td>\n      <td>NaN</td>\n      <td>NaN</td>\n      <td>NaN</td>\n      <td>NaN</td>\n      <td>NaN</td>\n      <td>NaN</td>\n      <td>NaN</td>\n      <td>NaN</td>\n      <td>NaN</td>\n    </tr>\n    <tr>\n      <th>07-03-08</th>\n      <td>4771.600098</td>\n      <td>11893.690430</td>\n      <td>1293.369995</td>\n      <td>2212.489990</td>\n      <td>102.379997</td>\n      <td>3.541</td>\n      <td>972.200012</td>\n      <td>40.238998</td>\n      <td>73.029999</td>\n      <td>4706.0</td>\n      <td>...</td>\n      <td>NaN</td>\n      <td>NaN</td>\n      <td>-4.274937</td>\n      <td>NaN</td>\n      <td>NaN</td>\n      <td>NaN</td>\n      <td>-0.870647</td>\n      <td>NaN</td>\n      <td>NaN</td>\n      <td>NaN</td>\n    </tr>\n    <tr>\n      <th>10-03-08</th>\n      <td>4800.399902</td>\n      <td>11740.150391</td>\n      <td>1273.369995</td>\n      <td>2169.340088</td>\n      <td>104.160004</td>\n      <td>3.438</td>\n      <td>969.900024</td>\n      <td>40.313999</td>\n      <td>72.989998</td>\n      <td>4706.0</td>\n      <td>...</td>\n      <td>NaN</td>\n      <td>NaN</td>\n      <td>-1.000000</td>\n      <td>NaN</td>\n      <td>NaN</td>\n      <td>NaN</td>\n      <td>7.526045</td>\n      <td>NaN</td>\n      <td>NaN</td>\n      <td>NaN</td>\n    </tr>\n    <tr>\n      <th>11-03-08</th>\n      <td>4865.899902</td>\n      <td>12156.809570</td>\n      <td>1320.650024</td>\n      <td>2255.760010</td>\n      <td>105.250000</td>\n      <td>3.596</td>\n      <td>974.200012</td>\n      <td>40.174999</td>\n      <td>73.279999</td>\n      <td>4846.5</td>\n      <td>...</td>\n      <td>NaN</td>\n      <td>NaN</td>\n      <td>inf</td>\n      <td>NaN</td>\n      <td>NaN</td>\n      <td>NaN</td>\n      <td>-1.045361</td>\n      <td>NaN</td>\n      <td>NaN</td>\n      <td>NaN</td>\n    </tr>\n    <tr>\n      <th>...</th>\n      <td>...</td>\n      <td>...</td>\n      <td>...</td>\n      <td>...</td>\n      <td>...</td>\n      <td>...</td>\n      <td>...</td>\n      <td>...</td>\n      <td>...</td>\n      <td>...</td>\n      <td>...</td>\n      <td>...</td>\n      <td>...</td>\n      <td>...</td>\n      <td>...</td>\n      <td>...</td>\n      <td>...</td>\n      <td>...</td>\n      <td>...</td>\n      <td>...</td>\n      <td>...</td>\n    </tr>\n    <tr>\n      <th>29-03-23</th>\n      <td>17080.699219</td>\n      <td>32717.599609</td>\n      <td>4027.810059</td>\n      <td>11926.240234</td>\n      <td>78.279999</td>\n      <td>3.566</td>\n      <td>1966.099976</td>\n      <td>82.164299</td>\n      <td>102.639999</td>\n      <td>17200.0</td>\n      <td>...</td>\n      <td>-1.839739</td>\n      <td>0.030582</td>\n      <td>-3.567208</td>\n      <td>-0.309082</td>\n      <td>-0.435016</td>\n      <td>-1.098680</td>\n      <td>3.365632</td>\n      <td>-0.127033</td>\n      <td>-0.865636</td>\n      <td>-56.521208</td>\n    </tr>\n    <tr>\n      <th>31-03-23</th>\n      <td>17359.750000</td>\n      <td>33274.148438</td>\n      <td>4109.310059</td>\n      <td>12221.910156</td>\n      <td>79.769997</td>\n      <td>3.494</td>\n      <td>1969.000000</td>\n      <td>82.100502</td>\n      <td>102.510002</td>\n      <td>17480.5</td>\n      <td>...</td>\n      <td>-1.808875</td>\n      <td>-0.215949</td>\n      <td>0.322594</td>\n      <td>-6.471258</td>\n      <td>-0.830032</td>\n      <td>-0.995031</td>\n      <td>-0.478895</td>\n      <td>0.007460</td>\n      <td>-0.979919</td>\n      <td>89.076748</td>\n    </tr>\n    <tr>\n      <th>03-04-23</th>\n      <td>17398.050781</td>\n      <td>33601.148438</td>\n      <td>4124.509766</td>\n      <td>12189.450195</td>\n      <td>84.930000</td>\n      <td>3.430</td>\n      <td>1983.900024</td>\n      <td>82.184799</td>\n      <td>102.089996</td>\n      <td>17456.5</td>\n      <td>...</td>\n      <td>-1.743663</td>\n      <td>-0.428063</td>\n      <td>-1.084189</td>\n      <td>-56.891259</td>\n      <td>-0.967791</td>\n      <td>-1.085774</td>\n      <td>-0.467526</td>\n      <td>-6.444835</td>\n      <td>-0.869266</td>\n      <td>3.085447</td>\n    </tr>\n    <tr>\n      <th>05-04-23</th>\n      <td>17557.050781</td>\n      <td>33482.718750</td>\n      <td>4090.379883</td>\n      <td>11996.860352</td>\n      <td>84.989998</td>\n      <td>3.287</td>\n      <td>2020.900024</td>\n      <td>82.114799</td>\n      <td>101.849998</td>\n      <td>17590.0</td>\n      <td>...</td>\n      <td>-1.938354</td>\n      <td>-0.581317</td>\n      <td>-6.570148</td>\n      <td>-15.816026</td>\n      <td>-3.939472</td>\n      <td>-1.122229</td>\n      <td>-0.493436</td>\n      <td>4.587453</td>\n      <td>-1.084536</td>\n      <td>0.968230</td>\n    </tr>\n    <tr>\n      <th>06-04-23</th>\n      <td>17599.150391</td>\n      <td>33485.289062</td>\n      <td>4105.020020</td>\n      <td>12087.959961</td>\n      <td>85.120003</td>\n      <td>3.288</td>\n      <td>2011.900024</td>\n      <td>81.949997</td>\n      <td>101.820000</td>\n      <td>17680.5</td>\n      <td>...</td>\n      <td>-2.744984</td>\n      <td>-0.694032</td>\n      <td>-0.327242</td>\n      <td>-5.040611</td>\n      <td>5.035176</td>\n      <td>-1.085043</td>\n      <td>2.614764</td>\n      <td>-189.495577</td>\n      <td>-0.741030</td>\n      <td>2.205649</td>\n    </tr>\n  </tbody>\n</table>\n<p>3515 rows × 55 columns</p>\n</div>"
     },
     "execution_count": 12,
     "metadata": {},
     "output_type": "execute_result"
    }
   ],
   "source": [
    "for col in df1.columns:\n",
    "    df1[f'{col}_1d_return'] = df1[col].pct_change(periods=1)\n",
    "    df1[f'{col}_1d_return'] = df1[f'{col}_1d_return'].pct_change(periods=1)\n",
    "    df1[f'{col}_7d_return'] = df1[col].pct_change(periods=5)\n",
    "    df1[f'{col}_7d_return'] = df1[f'{col}_7d_return'].pct_change(periods=5)\n",
    "    df1[f'{col}_1m_return'] = df1[col].pct_change(periods=20)\n",
    "    df1[f'{col}_1m_return'] = df1[f'{col}_1m_return'].pct_change(periods=20)\n",
    "    df1[f'{col}_1y_return'] = df1[col].pct_change(periods=240)\n",
    "    df1[f'{col}_1y_return'] = df1[f'{col}_1y_return'].pct_change(periods=240)\n",
    "df1"
   ],
   "metadata": {
    "collapsed": false,
    "pycharm": {
     "name": "#%%\n"
    }
   }
  },
  {
   "cell_type": "code",
   "execution_count": 13,
   "outputs": [
    {
     "data": {
      "text/plain": "Index(['Nifty_50', 'Dow_Jons', 'S&P_500', 'NASDAQ', 'BRENT', 'BOND_10Y',\n       'Gold', 'Inr_Usd', 'Dollar_Index', 'sgx', 'indiavix',\n       'Nifty_50_1d_return', 'Nifty_50_7d_return', 'Nifty_50_1m_return',\n       'Nifty_50_1y_return', 'Dow_Jons_1d_return', 'Dow_Jons_7d_return',\n       'Dow_Jons_1m_return', 'Dow_Jons_1y_return', 'S&P_500_1d_return',\n       'S&P_500_7d_return', 'S&P_500_1m_return', 'S&P_500_1y_return',\n       'NASDAQ_1d_return', 'NASDAQ_7d_return', 'NASDAQ_1m_return',\n       'NASDAQ_1y_return', 'BRENT_1d_return', 'BRENT_7d_return',\n       'BRENT_1m_return', 'BRENT_1y_return', 'BOND_10Y_1d_return',\n       'BOND_10Y_7d_return', 'BOND_10Y_1m_return', 'BOND_10Y_1y_return',\n       'Gold_1d_return', 'Gold_7d_return', 'Gold_1m_return', 'Gold_1y_return',\n       'Inr_Usd_1d_return', 'Inr_Usd_7d_return', 'Inr_Usd_1m_return',\n       'Inr_Usd_1y_return', 'Dollar_Index_1d_return', 'Dollar_Index_7d_return',\n       'Dollar_Index_1m_return', 'Dollar_Index_1y_return', 'sgx_1d_return',\n       'sgx_7d_return', 'sgx_1m_return', 'sgx_1y_return', 'indiavix_1d_return',\n       'indiavix_7d_return', 'indiavix_1m_return', 'indiavix_1y_return'],\n      dtype='object')"
     },
     "execution_count": 13,
     "metadata": {},
     "output_type": "execute_result"
    }
   ],
   "source": [
    "df1.columns"
   ],
   "metadata": {
    "collapsed": false,
    "pycharm": {
     "name": "#%%\n"
    }
   }
  },
  {
   "cell_type": "code",
   "execution_count": 14,
   "outputs": [
    {
     "data": {
      "text/plain": "          Nifty_50_1d_return  Nifty_50_7d_return  Nifty_50_1m_return  \\\nDate                                                                   \n04-03-08                 NaN                 NaN                 NaN   \n05-03-08                 NaN                 NaN                 NaN   \n07-03-08               -3.59                 NaN                 NaN   \n10-03-08               -1.20                 NaN                 NaN   \n11-03-08                1.26                 NaN                 NaN   \n...                      ...                 ...                 ...   \n29-03-23               -4.80               -1.39               -0.34   \n31-03-23                1.15                2.08               -0.56   \n03-04-23               -0.86               -3.95               -1.26   \n05-04-23                3.14             -212.55                1.33   \n06-04-23               -0.74               -5.19               -0.21   \n\n          Nifty_50_1y_return  Dow_Jons_1d_return  Dow_Jons_7d_return  \\\nDate                                                                   \n04-03-08                 NaN                 NaN                 NaN   \n05-03-08                 NaN                 NaN                 NaN   \n07-03-08                 NaN               -9.74                 NaN   \n10-03-08                 NaN               -0.56                 NaN   \n11-03-08                 NaN               -3.75                 NaN   \n...                      ...                 ...                 ...   \n29-03-23               -1.13               -9.56                3.40   \n31-03-23               -1.03                0.70               -9.31   \n03-04-23               -1.08               -0.42                2.59   \n05-04-23               -1.12               -1.36                4.57   \n06-04-23               -1.09               -1.02               -7.59   \n\n          Dow_Jons_1m_return  Dow_Jons_1y_return  S&P_500_1d_return  \\\nDate                                                                  \n04-03-08                 NaN                 NaN                NaN   \n05-03-08                 NaN                 NaN                NaN   \n07-03-08                 NaN                 NaN              -6.77   \n10-03-08                 NaN                 NaN              -0.49   \n11-03-08                 NaN                 NaN              -3.40   \n...                      ...                 ...                ...   \n29-03-23               -1.06               -2.09             -10.05   \n31-03-23               -1.45               -1.79               0.42   \n03-04-23               -1.57               -1.70              -0.82   \n05-04-23               -1.14               -1.99              -3.24   \n06-04-23               -1.11               -1.92              -1.43   \n\n          S&P_500_7d_return  ...  Dollar_Index_1m_return  \\\nDate                         ...                           \n04-03-08                NaN  ...                     NaN   \n05-03-08                NaN  ...                     NaN   \n07-03-08                NaN  ...                     NaN   \n10-03-08                NaN  ...                     NaN   \n11-03-08                NaN  ...                     NaN   \n...                     ...  ...                     ...   \n29-03-23               0.99  ...                   -1.84   \n31-03-23             -14.93  ...                   -1.81   \n03-04-23               1.79  ...                   -1.74   \n05-04-23               3.32  ...                   -1.94   \n06-04-23              -5.27  ...                   -2.74   \n\n          Dollar_Index_1y_return  sgx_1d_return  sgx_7d_return  sgx_1m_return  \\\nDate                                                                            \n04-03-08                     NaN            NaN            NaN            NaN   \n05-03-08                     NaN            NaN            NaN            NaN   \n07-03-08                     NaN          -4.27            NaN            NaN   \n10-03-08                     NaN          -1.00            NaN            NaN   \n11-03-08                     NaN            inf            NaN            NaN   \n...                          ...            ...            ...            ...   \n29-03-23                    0.03          -3.57          -0.31          -0.44   \n31-03-23                   -0.22           0.32          -6.47          -0.83   \n03-04-23                   -0.43          -1.08         -56.89          -0.97   \n05-04-23                   -0.58          -6.57         -15.82          -3.94   \n06-04-23                   -0.69          -0.33          -5.04           5.04   \n\n          sgx_1y_return  indiavix_1d_return  indiavix_7d_return  \\\nDate                                                              \n04-03-08            NaN                 NaN                 NaN   \n05-03-08            NaN                 NaN                 NaN   \n07-03-08            NaN               -0.87                 NaN   \n10-03-08            NaN                7.53                 NaN   \n11-03-08            NaN               -1.05                 NaN   \n...                 ...                 ...                 ...   \n29-03-23          -1.10                3.37               -0.13   \n31-03-23          -1.00               -0.48                0.01   \n03-04-23          -1.09               -0.47               -6.44   \n05-04-23          -1.12               -0.49                4.59   \n06-04-23          -1.09                2.61             -189.50   \n\n          indiavix_1m_return  indiavix_1y_return  \nDate                                              \n04-03-08                 NaN                 NaN  \n05-03-08                 NaN                 NaN  \n07-03-08                 NaN                 NaN  \n10-03-08                 NaN                 NaN  \n11-03-08                 NaN                 NaN  \n...                      ...                 ...  \n29-03-23               -0.87              -56.52  \n31-03-23               -0.98               89.08  \n03-04-23               -0.87                3.09  \n05-04-23               -1.08                0.97  \n06-04-23               -0.74                2.21  \n\n[3515 rows x 44 columns]",
      "text/html": "<div>\n<style scoped>\n    .dataframe tbody tr th:only-of-type {\n        vertical-align: middle;\n    }\n\n    .dataframe tbody tr th {\n        vertical-align: top;\n    }\n\n    .dataframe thead th {\n        text-align: right;\n    }\n</style>\n<table border=\"1\" class=\"dataframe\">\n  <thead>\n    <tr style=\"text-align: right;\">\n      <th></th>\n      <th>Nifty_50_1d_return</th>\n      <th>Nifty_50_7d_return</th>\n      <th>Nifty_50_1m_return</th>\n      <th>Nifty_50_1y_return</th>\n      <th>Dow_Jons_1d_return</th>\n      <th>Dow_Jons_7d_return</th>\n      <th>Dow_Jons_1m_return</th>\n      <th>Dow_Jons_1y_return</th>\n      <th>S&amp;P_500_1d_return</th>\n      <th>S&amp;P_500_7d_return</th>\n      <th>...</th>\n      <th>Dollar_Index_1m_return</th>\n      <th>Dollar_Index_1y_return</th>\n      <th>sgx_1d_return</th>\n      <th>sgx_7d_return</th>\n      <th>sgx_1m_return</th>\n      <th>sgx_1y_return</th>\n      <th>indiavix_1d_return</th>\n      <th>indiavix_7d_return</th>\n      <th>indiavix_1m_return</th>\n      <th>indiavix_1y_return</th>\n    </tr>\n    <tr>\n      <th>Date</th>\n      <th></th>\n      <th></th>\n      <th></th>\n      <th></th>\n      <th></th>\n      <th></th>\n      <th></th>\n      <th></th>\n      <th></th>\n      <th></th>\n      <th></th>\n      <th></th>\n      <th></th>\n      <th></th>\n      <th></th>\n      <th></th>\n      <th></th>\n      <th></th>\n      <th></th>\n      <th></th>\n      <th></th>\n    </tr>\n  </thead>\n  <tbody>\n    <tr>\n      <th>04-03-08</th>\n      <td>NaN</td>\n      <td>NaN</td>\n      <td>NaN</td>\n      <td>NaN</td>\n      <td>NaN</td>\n      <td>NaN</td>\n      <td>NaN</td>\n      <td>NaN</td>\n      <td>NaN</td>\n      <td>NaN</td>\n      <td>...</td>\n      <td>NaN</td>\n      <td>NaN</td>\n      <td>NaN</td>\n      <td>NaN</td>\n      <td>NaN</td>\n      <td>NaN</td>\n      <td>NaN</td>\n      <td>NaN</td>\n      <td>NaN</td>\n      <td>NaN</td>\n    </tr>\n    <tr>\n      <th>05-03-08</th>\n      <td>NaN</td>\n      <td>NaN</td>\n      <td>NaN</td>\n      <td>NaN</td>\n      <td>NaN</td>\n      <td>NaN</td>\n      <td>NaN</td>\n      <td>NaN</td>\n      <td>NaN</td>\n      <td>NaN</td>\n      <td>...</td>\n      <td>NaN</td>\n      <td>NaN</td>\n      <td>NaN</td>\n      <td>NaN</td>\n      <td>NaN</td>\n      <td>NaN</td>\n      <td>NaN</td>\n      <td>NaN</td>\n      <td>NaN</td>\n      <td>NaN</td>\n    </tr>\n    <tr>\n      <th>07-03-08</th>\n      <td>-3.59</td>\n      <td>NaN</td>\n      <td>NaN</td>\n      <td>NaN</td>\n      <td>-9.74</td>\n      <td>NaN</td>\n      <td>NaN</td>\n      <td>NaN</td>\n      <td>-6.77</td>\n      <td>NaN</td>\n      <td>...</td>\n      <td>NaN</td>\n      <td>NaN</td>\n      <td>-4.27</td>\n      <td>NaN</td>\n      <td>NaN</td>\n      <td>NaN</td>\n      <td>-0.87</td>\n      <td>NaN</td>\n      <td>NaN</td>\n      <td>NaN</td>\n    </tr>\n    <tr>\n      <th>10-03-08</th>\n      <td>-1.20</td>\n      <td>NaN</td>\n      <td>NaN</td>\n      <td>NaN</td>\n      <td>-0.56</td>\n      <td>NaN</td>\n      <td>NaN</td>\n      <td>NaN</td>\n      <td>-0.49</td>\n      <td>NaN</td>\n      <td>...</td>\n      <td>NaN</td>\n      <td>NaN</td>\n      <td>-1.00</td>\n      <td>NaN</td>\n      <td>NaN</td>\n      <td>NaN</td>\n      <td>7.53</td>\n      <td>NaN</td>\n      <td>NaN</td>\n      <td>NaN</td>\n    </tr>\n    <tr>\n      <th>11-03-08</th>\n      <td>1.26</td>\n      <td>NaN</td>\n      <td>NaN</td>\n      <td>NaN</td>\n      <td>-3.75</td>\n      <td>NaN</td>\n      <td>NaN</td>\n      <td>NaN</td>\n      <td>-3.40</td>\n      <td>NaN</td>\n      <td>...</td>\n      <td>NaN</td>\n      <td>NaN</td>\n      <td>inf</td>\n      <td>NaN</td>\n      <td>NaN</td>\n      <td>NaN</td>\n      <td>-1.05</td>\n      <td>NaN</td>\n      <td>NaN</td>\n      <td>NaN</td>\n    </tr>\n    <tr>\n      <th>...</th>\n      <td>...</td>\n      <td>...</td>\n      <td>...</td>\n      <td>...</td>\n      <td>...</td>\n      <td>...</td>\n      <td>...</td>\n      <td>...</td>\n      <td>...</td>\n      <td>...</td>\n      <td>...</td>\n      <td>...</td>\n      <td>...</td>\n      <td>...</td>\n      <td>...</td>\n      <td>...</td>\n      <td>...</td>\n      <td>...</td>\n      <td>...</td>\n      <td>...</td>\n      <td>...</td>\n    </tr>\n    <tr>\n      <th>29-03-23</th>\n      <td>-4.80</td>\n      <td>-1.39</td>\n      <td>-0.34</td>\n      <td>-1.13</td>\n      <td>-9.56</td>\n      <td>3.40</td>\n      <td>-1.06</td>\n      <td>-2.09</td>\n      <td>-10.05</td>\n      <td>0.99</td>\n      <td>...</td>\n      <td>-1.84</td>\n      <td>0.03</td>\n      <td>-3.57</td>\n      <td>-0.31</td>\n      <td>-0.44</td>\n      <td>-1.10</td>\n      <td>3.37</td>\n      <td>-0.13</td>\n      <td>-0.87</td>\n      <td>-56.52</td>\n    </tr>\n    <tr>\n      <th>31-03-23</th>\n      <td>1.15</td>\n      <td>2.08</td>\n      <td>-0.56</td>\n      <td>-1.03</td>\n      <td>0.70</td>\n      <td>-9.31</td>\n      <td>-1.45</td>\n      <td>-1.79</td>\n      <td>0.42</td>\n      <td>-14.93</td>\n      <td>...</td>\n      <td>-1.81</td>\n      <td>-0.22</td>\n      <td>0.32</td>\n      <td>-6.47</td>\n      <td>-0.83</td>\n      <td>-1.00</td>\n      <td>-0.48</td>\n      <td>0.01</td>\n      <td>-0.98</td>\n      <td>89.08</td>\n    </tr>\n    <tr>\n      <th>03-04-23</th>\n      <td>-0.86</td>\n      <td>-3.95</td>\n      <td>-1.26</td>\n      <td>-1.08</td>\n      <td>-0.42</td>\n      <td>2.59</td>\n      <td>-1.57</td>\n      <td>-1.70</td>\n      <td>-0.82</td>\n      <td>1.79</td>\n      <td>...</td>\n      <td>-1.74</td>\n      <td>-0.43</td>\n      <td>-1.08</td>\n      <td>-56.89</td>\n      <td>-0.97</td>\n      <td>-1.09</td>\n      <td>-0.47</td>\n      <td>-6.44</td>\n      <td>-0.87</td>\n      <td>3.09</td>\n    </tr>\n    <tr>\n      <th>05-04-23</th>\n      <td>3.14</td>\n      <td>-212.55</td>\n      <td>1.33</td>\n      <td>-1.12</td>\n      <td>-1.36</td>\n      <td>4.57</td>\n      <td>-1.14</td>\n      <td>-1.99</td>\n      <td>-3.24</td>\n      <td>3.32</td>\n      <td>...</td>\n      <td>-1.94</td>\n      <td>-0.58</td>\n      <td>-6.57</td>\n      <td>-15.82</td>\n      <td>-3.94</td>\n      <td>-1.12</td>\n      <td>-0.49</td>\n      <td>4.59</td>\n      <td>-1.08</td>\n      <td>0.97</td>\n    </tr>\n    <tr>\n      <th>06-04-23</th>\n      <td>-0.74</td>\n      <td>-5.19</td>\n      <td>-0.21</td>\n      <td>-1.09</td>\n      <td>-1.02</td>\n      <td>-7.59</td>\n      <td>-1.11</td>\n      <td>-1.92</td>\n      <td>-1.43</td>\n      <td>-5.27</td>\n      <td>...</td>\n      <td>-2.74</td>\n      <td>-0.69</td>\n      <td>-0.33</td>\n      <td>-5.04</td>\n      <td>5.04</td>\n      <td>-1.09</td>\n      <td>2.61</td>\n      <td>-189.50</td>\n      <td>-0.74</td>\n      <td>2.21</td>\n    </tr>\n  </tbody>\n</table>\n<p>3515 rows × 44 columns</p>\n</div>"
     },
     "execution_count": 14,
     "metadata": {},
     "output_type": "execute_result"
    }
   ],
   "source": [
    "df3 = df1.drop(columns=['Nifty_50', 'Dow_Jons', 'S&P_500', 'NASDAQ', 'BRENT', 'BOND_10Y',\n",
    "       'Gold', 'Inr_Usd', 'Dollar_Index', 'sgx', 'indiavix',])\n",
    "# Fill all NaN values with 0\n",
    "#df3.fillna(0, inplace=True)\n",
    "df3 = df3.round(2)\n",
    "df3"
   ],
   "metadata": {
    "collapsed": false,
    "pycharm": {
     "name": "#%%\n"
    }
   }
  },
  {
   "cell_type": "code",
   "execution_count": 15,
   "outputs": [
    {
     "data": {
      "text/plain": "          us_unemployment    US_CPI  FED_RATE  india_cpi  bond_Return\nDATE                                                                 \n01-06-07              4.6  2.687038      5.25   5.691057         0.00\n01-07-07              4.7  2.358231      5.26   6.451613         0.00\n01-08-07              4.6  1.970083      5.02   7.258065         0.00\n01-09-07              4.7  2.755052      4.94   6.400000         0.00\n01-10-07              4.7  3.536174      4.76   5.511811         0.00\n...                   ...       ...       ...        ...          ...\n01-10-22              3.7  7.745427      3.08   6.084868         7.46\n01-11-22              3.6  7.110323      3.78   5.409706         7.36\n01-12-22              3.5  6.454401      4.10   5.502392         7.29\n01-01-23              3.4  6.410147      4.33   6.155076         7.39\n01-02-23              3.6  6.035613      4.57   6.160000         7.34\n\n[189 rows x 5 columns]",
      "text/html": "<div>\n<style scoped>\n    .dataframe tbody tr th:only-of-type {\n        vertical-align: middle;\n    }\n\n    .dataframe tbody tr th {\n        vertical-align: top;\n    }\n\n    .dataframe thead th {\n        text-align: right;\n    }\n</style>\n<table border=\"1\" class=\"dataframe\">\n  <thead>\n    <tr style=\"text-align: right;\">\n      <th></th>\n      <th>us_unemployment</th>\n      <th>US_CPI</th>\n      <th>FED_RATE</th>\n      <th>india_cpi</th>\n      <th>bond_Return</th>\n    </tr>\n    <tr>\n      <th>DATE</th>\n      <th></th>\n      <th></th>\n      <th></th>\n      <th></th>\n      <th></th>\n    </tr>\n  </thead>\n  <tbody>\n    <tr>\n      <th>01-06-07</th>\n      <td>4.6</td>\n      <td>2.687038</td>\n      <td>5.25</td>\n      <td>5.691057</td>\n      <td>0.00</td>\n    </tr>\n    <tr>\n      <th>01-07-07</th>\n      <td>4.7</td>\n      <td>2.358231</td>\n      <td>5.26</td>\n      <td>6.451613</td>\n      <td>0.00</td>\n    </tr>\n    <tr>\n      <th>01-08-07</th>\n      <td>4.6</td>\n      <td>1.970083</td>\n      <td>5.02</td>\n      <td>7.258065</td>\n      <td>0.00</td>\n    </tr>\n    <tr>\n      <th>01-09-07</th>\n      <td>4.7</td>\n      <td>2.755052</td>\n      <td>4.94</td>\n      <td>6.400000</td>\n      <td>0.00</td>\n    </tr>\n    <tr>\n      <th>01-10-07</th>\n      <td>4.7</td>\n      <td>3.536174</td>\n      <td>4.76</td>\n      <td>5.511811</td>\n      <td>0.00</td>\n    </tr>\n    <tr>\n      <th>...</th>\n      <td>...</td>\n      <td>...</td>\n      <td>...</td>\n      <td>...</td>\n      <td>...</td>\n    </tr>\n    <tr>\n      <th>01-10-22</th>\n      <td>3.7</td>\n      <td>7.745427</td>\n      <td>3.08</td>\n      <td>6.084868</td>\n      <td>7.46</td>\n    </tr>\n    <tr>\n      <th>01-11-22</th>\n      <td>3.6</td>\n      <td>7.110323</td>\n      <td>3.78</td>\n      <td>5.409706</td>\n      <td>7.36</td>\n    </tr>\n    <tr>\n      <th>01-12-22</th>\n      <td>3.5</td>\n      <td>6.454401</td>\n      <td>4.10</td>\n      <td>5.502392</td>\n      <td>7.29</td>\n    </tr>\n    <tr>\n      <th>01-01-23</th>\n      <td>3.4</td>\n      <td>6.410147</td>\n      <td>4.33</td>\n      <td>6.155076</td>\n      <td>7.39</td>\n    </tr>\n    <tr>\n      <th>01-02-23</th>\n      <td>3.6</td>\n      <td>6.035613</td>\n      <td>4.57</td>\n      <td>6.160000</td>\n      <td>7.34</td>\n    </tr>\n  </tbody>\n</table>\n<p>189 rows × 5 columns</p>\n</div>"
     },
     "execution_count": 15,
     "metadata": {},
     "output_type": "execute_result"
    }
   ],
   "source": [
    "df2"
   ],
   "metadata": {
    "collapsed": false,
    "pycharm": {
     "name": "#%%\n"
    }
   }
  },
  {
   "cell_type": "code",
   "execution_count": 16,
   "outputs": [
    {
     "data": {
      "text/plain": "          us_unemployment    US_CPI  FED_RATE  india_cpi  bond_Return  \\\nDATE                                                                    \n01-06-07              4.6  2.687038      5.25   5.691057         0.00   \n01-07-07              4.7  2.358231      5.26   6.451613         0.00   \n01-08-07              4.6  1.970083      5.02   7.258065         0.00   \n01-09-07              4.7  2.755052      4.94   6.400000         0.00   \n01-10-07              4.7  3.536174      4.76   5.511811         0.00   \n...                   ...       ...       ...        ...          ...   \n01-10-22              3.7  7.745427      3.08   6.084868         7.46   \n01-11-22              3.6  7.110323      3.78   5.409706         7.36   \n01-12-22              3.5  6.454401      4.10   5.502392         7.29   \n01-01-23              3.4  6.410147      4.33   6.155076         7.39   \n01-02-23              3.6  6.035613      4.57   6.160000         7.34   \n\n          us_unemployment_1m_return  us_unemployment_1y_return  \\\nDATE                                                             \n01-06-07                        NaN                        NaN   \n01-07-07                        NaN                        NaN   \n01-08-07                  -1.978723                        NaN   \n01-09-07                  -2.021739                        NaN   \n01-10-07                  -1.000000                        NaN   \n...                             ...                        ...   \n01-10-22                  -2.057143                  -0.488889   \n01-11-22                  -1.472973                  -0.617143   \n01-12-22                   0.027778                  -0.754579   \n01-01-23                   0.028571                  -0.589130   \n01-02-23                  -3.058824                  -0.864035   \n\n          US_CPI_1m_return  US_CPI_1y_return  FED_RATE_1m_return  \\\nDATE                                                               \n01-06-07               NaN               NaN                 NaN   \n01-07-07               NaN               NaN                 NaN   \n01-08-07          0.345065               NaN          -24.954373   \n01-09-07         -3.420789               NaN           -0.650730   \n01-10-07         -0.288423               NaN            1.286437   \n...                    ...               ...                 ...   \n01-10-22          6.532208         -0.942566            1.057745   \n01-11-22          0.474031         -0.990775            0.118881   \n01-12-22          0.125026         -1.019853           -0.627513   \n01-01-23         -0.925675         -1.032925           -0.337348   \n01-02-23          7.521637         -1.063097           -0.011949   \n\n          FED_RATE_1y_return  india_cpi_1m_return  india_cpi_1y_return  \\\nDATE                                                                     \n01-06-07                 NaN                  NaN                  NaN   \n01-07-07                 NaN                  NaN                  NaN   \n01-08-07                 NaN            -0.064655                  NaN   \n01-09-07                 NaN            -1.945778                  NaN   \n01-10-07                 NaN             0.173887                  NaN   \n...                      ...                  ...                  ...   \n01-10-22            -338.500            -1.573481            -2.478635   \n01-11-22            -417.250             0.784752            -2.397513   \n01-12-22            -453.250            -1.154414            -1.018877   \n01-01-23            -479.125             5.923208            -0.935677   \n01-02-23                 inf            -0.993256             0.820155   \n\n          bond_Return_1m_return  bond_Return_1y_return  \nDATE                                                    \n01-06-07                    NaN                    NaN  \n01-07-07                    NaN                    NaN  \n01-08-07                    NaN                    NaN  \n01-09-07                    NaN                    NaN  \n01-10-07                    NaN                    NaN  \n...                         ...                    ...  \n01-10-22                    inf               1.509971  \n01-11-22              -1.542151               1.036597  \n01-12-22              -0.290489               0.413467  \n01-01-23              -2.442289              -0.069025  \n01-02-23              -1.493234              -0.014680  \n\n[189 rows x 15 columns]",
      "text/html": "<div>\n<style scoped>\n    .dataframe tbody tr th:only-of-type {\n        vertical-align: middle;\n    }\n\n    .dataframe tbody tr th {\n        vertical-align: top;\n    }\n\n    .dataframe thead th {\n        text-align: right;\n    }\n</style>\n<table border=\"1\" class=\"dataframe\">\n  <thead>\n    <tr style=\"text-align: right;\">\n      <th></th>\n      <th>us_unemployment</th>\n      <th>US_CPI</th>\n      <th>FED_RATE</th>\n      <th>india_cpi</th>\n      <th>bond_Return</th>\n      <th>us_unemployment_1m_return</th>\n      <th>us_unemployment_1y_return</th>\n      <th>US_CPI_1m_return</th>\n      <th>US_CPI_1y_return</th>\n      <th>FED_RATE_1m_return</th>\n      <th>FED_RATE_1y_return</th>\n      <th>india_cpi_1m_return</th>\n      <th>india_cpi_1y_return</th>\n      <th>bond_Return_1m_return</th>\n      <th>bond_Return_1y_return</th>\n    </tr>\n    <tr>\n      <th>DATE</th>\n      <th></th>\n      <th></th>\n      <th></th>\n      <th></th>\n      <th></th>\n      <th></th>\n      <th></th>\n      <th></th>\n      <th></th>\n      <th></th>\n      <th></th>\n      <th></th>\n      <th></th>\n      <th></th>\n      <th></th>\n    </tr>\n  </thead>\n  <tbody>\n    <tr>\n      <th>01-06-07</th>\n      <td>4.6</td>\n      <td>2.687038</td>\n      <td>5.25</td>\n      <td>5.691057</td>\n      <td>0.00</td>\n      <td>NaN</td>\n      <td>NaN</td>\n      <td>NaN</td>\n      <td>NaN</td>\n      <td>NaN</td>\n      <td>NaN</td>\n      <td>NaN</td>\n      <td>NaN</td>\n      <td>NaN</td>\n      <td>NaN</td>\n    </tr>\n    <tr>\n      <th>01-07-07</th>\n      <td>4.7</td>\n      <td>2.358231</td>\n      <td>5.26</td>\n      <td>6.451613</td>\n      <td>0.00</td>\n      <td>NaN</td>\n      <td>NaN</td>\n      <td>NaN</td>\n      <td>NaN</td>\n      <td>NaN</td>\n      <td>NaN</td>\n      <td>NaN</td>\n      <td>NaN</td>\n      <td>NaN</td>\n      <td>NaN</td>\n    </tr>\n    <tr>\n      <th>01-08-07</th>\n      <td>4.6</td>\n      <td>1.970083</td>\n      <td>5.02</td>\n      <td>7.258065</td>\n      <td>0.00</td>\n      <td>-1.978723</td>\n      <td>NaN</td>\n      <td>0.345065</td>\n      <td>NaN</td>\n      <td>-24.954373</td>\n      <td>NaN</td>\n      <td>-0.064655</td>\n      <td>NaN</td>\n      <td>NaN</td>\n      <td>NaN</td>\n    </tr>\n    <tr>\n      <th>01-09-07</th>\n      <td>4.7</td>\n      <td>2.755052</td>\n      <td>4.94</td>\n      <td>6.400000</td>\n      <td>0.00</td>\n      <td>-2.021739</td>\n      <td>NaN</td>\n      <td>-3.420789</td>\n      <td>NaN</td>\n      <td>-0.650730</td>\n      <td>NaN</td>\n      <td>-1.945778</td>\n      <td>NaN</td>\n      <td>NaN</td>\n      <td>NaN</td>\n    </tr>\n    <tr>\n      <th>01-10-07</th>\n      <td>4.7</td>\n      <td>3.536174</td>\n      <td>4.76</td>\n      <td>5.511811</td>\n      <td>0.00</td>\n      <td>-1.000000</td>\n      <td>NaN</td>\n      <td>-0.288423</td>\n      <td>NaN</td>\n      <td>1.286437</td>\n      <td>NaN</td>\n      <td>0.173887</td>\n      <td>NaN</td>\n      <td>NaN</td>\n      <td>NaN</td>\n    </tr>\n    <tr>\n      <th>...</th>\n      <td>...</td>\n      <td>...</td>\n      <td>...</td>\n      <td>...</td>\n      <td>...</td>\n      <td>...</td>\n      <td>...</td>\n      <td>...</td>\n      <td>...</td>\n      <td>...</td>\n      <td>...</td>\n      <td>...</td>\n      <td>...</td>\n      <td>...</td>\n      <td>...</td>\n    </tr>\n    <tr>\n      <th>01-10-22</th>\n      <td>3.7</td>\n      <td>7.745427</td>\n      <td>3.08</td>\n      <td>6.084868</td>\n      <td>7.46</td>\n      <td>-2.057143</td>\n      <td>-0.488889</td>\n      <td>6.532208</td>\n      <td>-0.942566</td>\n      <td>1.057745</td>\n      <td>-338.500</td>\n      <td>-1.573481</td>\n      <td>-2.478635</td>\n      <td>inf</td>\n      <td>1.509971</td>\n    </tr>\n    <tr>\n      <th>01-11-22</th>\n      <td>3.6</td>\n      <td>7.110323</td>\n      <td>3.78</td>\n      <td>5.409706</td>\n      <td>7.36</td>\n      <td>-1.472973</td>\n      <td>-0.617143</td>\n      <td>0.474031</td>\n      <td>-0.990775</td>\n      <td>0.118881</td>\n      <td>-417.250</td>\n      <td>0.784752</td>\n      <td>-2.397513</td>\n      <td>-1.542151</td>\n      <td>1.036597</td>\n    </tr>\n    <tr>\n      <th>01-12-22</th>\n      <td>3.5</td>\n      <td>6.454401</td>\n      <td>4.10</td>\n      <td>5.502392</td>\n      <td>7.29</td>\n      <td>0.027778</td>\n      <td>-0.754579</td>\n      <td>0.125026</td>\n      <td>-1.019853</td>\n      <td>-0.627513</td>\n      <td>-453.250</td>\n      <td>-1.154414</td>\n      <td>-1.018877</td>\n      <td>-0.290489</td>\n      <td>0.413467</td>\n    </tr>\n    <tr>\n      <th>01-01-23</th>\n      <td>3.4</td>\n      <td>6.410147</td>\n      <td>4.33</td>\n      <td>6.155076</td>\n      <td>7.39</td>\n      <td>0.028571</td>\n      <td>-0.589130</td>\n      <td>-0.925675</td>\n      <td>-1.032925</td>\n      <td>-0.337348</td>\n      <td>-479.125</td>\n      <td>5.923208</td>\n      <td>-0.935677</td>\n      <td>-2.442289</td>\n      <td>-0.069025</td>\n    </tr>\n    <tr>\n      <th>01-02-23</th>\n      <td>3.6</td>\n      <td>6.035613</td>\n      <td>4.57</td>\n      <td>6.160000</td>\n      <td>7.34</td>\n      <td>-3.058824</td>\n      <td>-0.864035</td>\n      <td>7.521637</td>\n      <td>-1.063097</td>\n      <td>-0.011949</td>\n      <td>inf</td>\n      <td>-0.993256</td>\n      <td>0.820155</td>\n      <td>-1.493234</td>\n      <td>-0.014680</td>\n    </tr>\n  </tbody>\n</table>\n<p>189 rows × 15 columns</p>\n</div>"
     },
     "execution_count": 16,
     "metadata": {},
     "output_type": "execute_result"
    }
   ],
   "source": [
    "for col in df2.columns:\n",
    "    df2[f'{col}_1m_return'] = df2[col].pct_change(periods=1)\n",
    "    df2[f'{col}_1m_return'] = df2[f'{col}_1m_return'].pct_change(periods=1)\n",
    "\n",
    "    df2[f'{col}_1y_return'] = df2[col].pct_change(periods=12)\n",
    "    df2[f'{col}_1y_return'] = df2[f'{col}_1y_return'].pct_change(periods=12)\n",
    "df2"
   ],
   "metadata": {
    "collapsed": false,
    "pycharm": {
     "name": "#%%\n"
    }
   }
  },
  {
   "cell_type": "code",
   "execution_count": 17,
   "outputs": [
    {
     "data": {
      "text/plain": "Index(['us_unemployment', 'US_CPI', 'FED_RATE', 'india_cpi', 'bond_Return',\n       'us_unemployment_1m_return', 'us_unemployment_1y_return',\n       'US_CPI_1m_return', 'US_CPI_1y_return', 'FED_RATE_1m_return',\n       'FED_RATE_1y_return', 'india_cpi_1m_return', 'india_cpi_1y_return',\n       'bond_Return_1m_return', 'bond_Return_1y_return'],\n      dtype='object')"
     },
     "execution_count": 17,
     "metadata": {},
     "output_type": "execute_result"
    }
   ],
   "source": [
    "df2.columns"
   ],
   "metadata": {
    "collapsed": false,
    "pycharm": {
     "name": "#%%\n"
    }
   }
  },
  {
   "cell_type": "code",
   "execution_count": 18,
   "outputs": [],
   "source": [
    "df4 = df2.drop(columns=['us_unemployment', 'US_CPI', 'FED_RATE', 'india_cpi', 'bond_Return','us_unemployment_1y_return',\n",
    "       'US_CPI_1y_return','FED_RATE_1y_return','india_cpi_1y_return','bond_Return_1m_return', 'bond_Return_1y_return'])\n",
    "df5 = df1.drop(columns=['Nifty_50', 'Dow_Jons', 'S&P_500', 'NASDAQ', 'BRENT', 'BOND_10Y','Gold', 'Inr_Usd', 'Dollar_Index',\n",
    "                        'sgx', 'indiavix','Nifty_50_1d_return', 'Nifty_50_7d_return', 'Nifty_50_1y_return', 'Dow_Jons_1d_return',\n",
    "                        'Dow_Jons_7d_return','Dow_Jons_1y_return', 'S&P_500_1d_return','S&P_500_7d_return', 'S&P_500_1m_return',\n",
    "                        'S&P_500_1y_return','NASDAQ_1d_return', 'NASDAQ_7d_return', 'NASDAQ_1y_return', 'BRENT_1d_return', 'BRENT_7d_return',\n",
    "                        'BRENT_1y_return', 'BOND_10Y_1d_return','BOND_10Y_7d_return', 'BOND_10Y_1y_return','Gold_1d_return', 'Gold_7d_return',\n",
    "                        'Gold_1y_return','Inr_Usd_1d_return', 'Inr_Usd_7d_return', 'Inr_Usd_1y_return', 'Dollar_Index_1d_return', 'Dollar_Index_7d_return',\n",
    "                        'Dollar_Index_1y_return', 'sgx_1d_return','sgx_7d_return','sgx_1y_return', 'indiavix_1d_return','indiavix_7d_return','indiavix_1y_return'])\n",
    "# Assuming your DataFrame is called df5\n",
    "df5.index = pd.to_datetime(df5.index)\n",
    "df5 = df5.resample('MS').mean() # Use 'MS' instead of 'M'\n",
    "df5.index = df5.index.strftime('%d-%m-%y')\n",
    "# Fill all NaN values with 0\n",
    "df4.fillna(0, inplace=True)\n",
    "df4 = df4.round(2)"
   ],
   "metadata": {
    "collapsed": false,
    "pycharm": {
     "name": "#%%\n"
    }
   }
  },
  {
   "cell_type": "code",
   "execution_count": 19,
   "outputs": [],
   "source": [
    "df6 = df2.drop(columns=['us_unemployment', 'US_CPI', 'FED_RATE', 'india_cpi', 'bond_Return','us_unemployment_1m_return',\n",
    "                        'US_CPI_1m_return', 'US_CPI_1y_return', 'FED_RATE_1m_return', 'india_cpi_1m_return', 'bond_Return_1m_return', ])\n",
    "df7 = df1.drop(columns=['Nifty_50', 'Dow_Jons', 'S&P_500', 'NASDAQ', 'BRENT', 'BOND_10Y','Gold', 'Inr_Usd', 'Dollar_Index',\n",
    "                        'sgx', 'indiavix','Nifty_50_1d_return', 'Nifty_50_7d_return', 'Nifty_50_1m_return', 'Dow_Jons_1d_return',\n",
    "                        'Dow_Jons_7d_return','Dow_Jons_1m_return', 'S&P_500_1d_return','S&P_500_7d_return', 'S&P_500_1m_return',\n",
    "                        'NASDAQ_1d_return', 'NASDAQ_7d_return', 'NASDAQ_1m_return','BRENT_1d_return', 'BRENT_7d_return',\n",
    "                        'BRENT_1m_return', 'BOND_10Y_1d_return','BOND_10Y_7d_return', 'BOND_10Y_1m_return', 'Gold_1d_return',\n",
    "                        'Gold_7d_return', 'Gold_1m_return', 'Inr_Usd_1d_return', 'Inr_Usd_7d_return', 'Inr_Usd_1m_return',\n",
    "                        'Dollar_Index_1d_return', 'Dollar_Index_7d_return','Dollar_Index_1m_return', 'sgx_1d_return',\n",
    "                        'sgx_7d_return', 'sgx_1m_return',  'indiavix_1d_return','indiavix_7d_return', 'indiavix_1m_return'])\n",
    "# Assuming your DataFrame is called df5\n",
    "df7.index = pd.to_datetime(df7.index)\n",
    "df7 = df7.resample('MS').mean() # Use 'MS' instead of 'M'\n",
    "df7.index = df7.index.strftime('%d-%m-%y')"
   ],
   "metadata": {
    "collapsed": false,
    "pycharm": {
     "name": "#%%\n"
    }
   }
  },
  {
   "cell_type": "code",
   "execution_count": 20,
   "outputs": [
    {
     "data": {
      "text/plain": "          Nifty_50_1y_return  Dow_Jons_1y_return  S&P_500_1y_return  \\\nDate                                                                  \n01-01-08                 NaN                 NaN                NaN   \n01-02-08                 NaN                 NaN                NaN   \n01-03-08                 NaN                 NaN                NaN   \n01-04-08                 NaN                 NaN                NaN   \n01-05-08                 NaN                 NaN                NaN   \n...                      ...                 ...                ...   \n01-08-23           -0.121773           -1.093908          -1.538799   \n01-09-23           -0.653418           -1.508377          -1.690820   \n01-10-23           -0.812022           -1.545517          -1.758084   \n01-11-23           -1.035955           -1.371783          -1.656150   \n01-12-23           -1.077611           -1.344364          -1.646057   \n\n          NASDAQ_1y_return  BRENT_1y_return  BOND_10Y_1y_return  \\\nDate                                                              \n01-01-08               NaN              NaN                 NaN   \n01-02-08               NaN              NaN                 NaN   \n01-03-08               NaN              NaN                 NaN   \n01-04-08               NaN              NaN                 NaN   \n01-05-08               NaN              NaN                 NaN   \n...                    ...              ...                 ...   \n01-08-23         -1.499851        -1.272302            2.381361   \n01-09-23         -4.414715        -1.209471            1.490911   \n01-10-23        -17.283698        -1.175450            0.847132   \n01-11-23         -2.715607        -1.024878            0.909115   \n01-12-23         -2.703218        -1.015225            0.937547   \n\n          Gold_1y_return  Inr_Usd_1y_return  Dollar_Index_1y_return  \\\nDate                                                                  \n01-01-08             NaN                NaN                     NaN   \n01-02-08             NaN                NaN                     NaN   \n01-03-08             NaN                NaN                     NaN   \n01-04-08             NaN                NaN                     NaN   \n01-05-08             NaN                NaN                     NaN   \n...                  ...                ...                     ...   \n01-08-23       -6.082945           1.703101                0.217010   \n01-09-23     -104.614127           3.327941                0.274746   \n01-10-23       -3.855474           4.121093                0.165251   \n01-11-23       -2.837245           9.986557                0.410989   \n01-12-23       -5.387681          24.793394                0.388332   \n\n          sgx_1y_return  indiavix_1y_return  \nDate                                         \n01-01-08            NaN                 NaN  \n01-02-08            NaN                 NaN  \n01-03-08            NaN                 NaN  \n01-04-08            NaN                 NaN  \n01-05-08            NaN                 NaN  \n...                 ...                 ...  \n01-08-23       0.012133           -2.515521  \n01-09-23      -0.668437           -1.777841  \n01-10-23      -0.804170           -1.512007  \n01-11-23      -1.016159           -0.367048  \n01-12-23      -1.050102           -0.552269  \n\n[192 rows x 11 columns]",
      "text/html": "<div>\n<style scoped>\n    .dataframe tbody tr th:only-of-type {\n        vertical-align: middle;\n    }\n\n    .dataframe tbody tr th {\n        vertical-align: top;\n    }\n\n    .dataframe thead th {\n        text-align: right;\n    }\n</style>\n<table border=\"1\" class=\"dataframe\">\n  <thead>\n    <tr style=\"text-align: right;\">\n      <th></th>\n      <th>Nifty_50_1y_return</th>\n      <th>Dow_Jons_1y_return</th>\n      <th>S&amp;P_500_1y_return</th>\n      <th>NASDAQ_1y_return</th>\n      <th>BRENT_1y_return</th>\n      <th>BOND_10Y_1y_return</th>\n      <th>Gold_1y_return</th>\n      <th>Inr_Usd_1y_return</th>\n      <th>Dollar_Index_1y_return</th>\n      <th>sgx_1y_return</th>\n      <th>indiavix_1y_return</th>\n    </tr>\n    <tr>\n      <th>Date</th>\n      <th></th>\n      <th></th>\n      <th></th>\n      <th></th>\n      <th></th>\n      <th></th>\n      <th></th>\n      <th></th>\n      <th></th>\n      <th></th>\n      <th></th>\n    </tr>\n  </thead>\n  <tbody>\n    <tr>\n      <th>01-01-08</th>\n      <td>NaN</td>\n      <td>NaN</td>\n      <td>NaN</td>\n      <td>NaN</td>\n      <td>NaN</td>\n      <td>NaN</td>\n      <td>NaN</td>\n      <td>NaN</td>\n      <td>NaN</td>\n      <td>NaN</td>\n      <td>NaN</td>\n    </tr>\n    <tr>\n      <th>01-02-08</th>\n      <td>NaN</td>\n      <td>NaN</td>\n      <td>NaN</td>\n      <td>NaN</td>\n      <td>NaN</td>\n      <td>NaN</td>\n      <td>NaN</td>\n      <td>NaN</td>\n      <td>NaN</td>\n      <td>NaN</td>\n      <td>NaN</td>\n    </tr>\n    <tr>\n      <th>01-03-08</th>\n      <td>NaN</td>\n      <td>NaN</td>\n      <td>NaN</td>\n      <td>NaN</td>\n      <td>NaN</td>\n      <td>NaN</td>\n      <td>NaN</td>\n      <td>NaN</td>\n      <td>NaN</td>\n      <td>NaN</td>\n      <td>NaN</td>\n    </tr>\n    <tr>\n      <th>01-04-08</th>\n      <td>NaN</td>\n      <td>NaN</td>\n      <td>NaN</td>\n      <td>NaN</td>\n      <td>NaN</td>\n      <td>NaN</td>\n      <td>NaN</td>\n      <td>NaN</td>\n      <td>NaN</td>\n      <td>NaN</td>\n      <td>NaN</td>\n    </tr>\n    <tr>\n      <th>01-05-08</th>\n      <td>NaN</td>\n      <td>NaN</td>\n      <td>NaN</td>\n      <td>NaN</td>\n      <td>NaN</td>\n      <td>NaN</td>\n      <td>NaN</td>\n      <td>NaN</td>\n      <td>NaN</td>\n      <td>NaN</td>\n      <td>NaN</td>\n    </tr>\n    <tr>\n      <th>...</th>\n      <td>...</td>\n      <td>...</td>\n      <td>...</td>\n      <td>...</td>\n      <td>...</td>\n      <td>...</td>\n      <td>...</td>\n      <td>...</td>\n      <td>...</td>\n      <td>...</td>\n      <td>...</td>\n    </tr>\n    <tr>\n      <th>01-08-23</th>\n      <td>-0.121773</td>\n      <td>-1.093908</td>\n      <td>-1.538799</td>\n      <td>-1.499851</td>\n      <td>-1.272302</td>\n      <td>2.381361</td>\n      <td>-6.082945</td>\n      <td>1.703101</td>\n      <td>0.217010</td>\n      <td>0.012133</td>\n      <td>-2.515521</td>\n    </tr>\n    <tr>\n      <th>01-09-23</th>\n      <td>-0.653418</td>\n      <td>-1.508377</td>\n      <td>-1.690820</td>\n      <td>-4.414715</td>\n      <td>-1.209471</td>\n      <td>1.490911</td>\n      <td>-104.614127</td>\n      <td>3.327941</td>\n      <td>0.274746</td>\n      <td>-0.668437</td>\n      <td>-1.777841</td>\n    </tr>\n    <tr>\n      <th>01-10-23</th>\n      <td>-0.812022</td>\n      <td>-1.545517</td>\n      <td>-1.758084</td>\n      <td>-17.283698</td>\n      <td>-1.175450</td>\n      <td>0.847132</td>\n      <td>-3.855474</td>\n      <td>4.121093</td>\n      <td>0.165251</td>\n      <td>-0.804170</td>\n      <td>-1.512007</td>\n    </tr>\n    <tr>\n      <th>01-11-23</th>\n      <td>-1.035955</td>\n      <td>-1.371783</td>\n      <td>-1.656150</td>\n      <td>-2.715607</td>\n      <td>-1.024878</td>\n      <td>0.909115</td>\n      <td>-2.837245</td>\n      <td>9.986557</td>\n      <td>0.410989</td>\n      <td>-1.016159</td>\n      <td>-0.367048</td>\n    </tr>\n    <tr>\n      <th>01-12-23</th>\n      <td>-1.077611</td>\n      <td>-1.344364</td>\n      <td>-1.646057</td>\n      <td>-2.703218</td>\n      <td>-1.015225</td>\n      <td>0.937547</td>\n      <td>-5.387681</td>\n      <td>24.793394</td>\n      <td>0.388332</td>\n      <td>-1.050102</td>\n      <td>-0.552269</td>\n    </tr>\n  </tbody>\n</table>\n<p>192 rows × 11 columns</p>\n</div>"
     },
     "execution_count": 20,
     "metadata": {},
     "output_type": "execute_result"
    }
   ],
   "source": [
    "df7"
   ],
   "metadata": {
    "collapsed": false,
    "pycharm": {
     "name": "#%%\n"
    }
   }
  },
  {
   "cell_type": "code",
   "execution_count": 21,
   "outputs": [
    {
     "data": {
      "text/plain": "          us_unemployment_1y_return  FED_RATE_1y_return  india_cpi_1y_return  \\\nDATE                                                                           \n01-06-07                        NaN                 NaN                  NaN   \n01-07-07                        NaN                 NaN                  NaN   \n01-08-07                        NaN                 NaN                  NaN   \n01-09-07                        NaN                 NaN                  NaN   \n01-10-07                        NaN                 NaN                  NaN   \n...                             ...                 ...                  ...   \n01-10-22                  -0.488889            -338.500            -2.478635   \n01-11-22                  -0.617143            -417.250            -2.397513   \n01-12-22                  -0.754579            -453.250            -1.018877   \n01-01-23                  -0.589130            -479.125            -0.935677   \n01-02-23                  -0.864035                 inf             0.820155   \n\n          bond_Return_1y_return  \nDATE                             \n01-06-07                    NaN  \n01-07-07                    NaN  \n01-08-07                    NaN  \n01-09-07                    NaN  \n01-10-07                    NaN  \n...                         ...  \n01-10-22               1.509971  \n01-11-22               1.036597  \n01-12-22               0.413467  \n01-01-23              -0.069025  \n01-02-23              -0.014680  \n\n[189 rows x 4 columns]",
      "text/html": "<div>\n<style scoped>\n    .dataframe tbody tr th:only-of-type {\n        vertical-align: middle;\n    }\n\n    .dataframe tbody tr th {\n        vertical-align: top;\n    }\n\n    .dataframe thead th {\n        text-align: right;\n    }\n</style>\n<table border=\"1\" class=\"dataframe\">\n  <thead>\n    <tr style=\"text-align: right;\">\n      <th></th>\n      <th>us_unemployment_1y_return</th>\n      <th>FED_RATE_1y_return</th>\n      <th>india_cpi_1y_return</th>\n      <th>bond_Return_1y_return</th>\n    </tr>\n    <tr>\n      <th>DATE</th>\n      <th></th>\n      <th></th>\n      <th></th>\n      <th></th>\n    </tr>\n  </thead>\n  <tbody>\n    <tr>\n      <th>01-06-07</th>\n      <td>NaN</td>\n      <td>NaN</td>\n      <td>NaN</td>\n      <td>NaN</td>\n    </tr>\n    <tr>\n      <th>01-07-07</th>\n      <td>NaN</td>\n      <td>NaN</td>\n      <td>NaN</td>\n      <td>NaN</td>\n    </tr>\n    <tr>\n      <th>01-08-07</th>\n      <td>NaN</td>\n      <td>NaN</td>\n      <td>NaN</td>\n      <td>NaN</td>\n    </tr>\n    <tr>\n      <th>01-09-07</th>\n      <td>NaN</td>\n      <td>NaN</td>\n      <td>NaN</td>\n      <td>NaN</td>\n    </tr>\n    <tr>\n      <th>01-10-07</th>\n      <td>NaN</td>\n      <td>NaN</td>\n      <td>NaN</td>\n      <td>NaN</td>\n    </tr>\n    <tr>\n      <th>...</th>\n      <td>...</td>\n      <td>...</td>\n      <td>...</td>\n      <td>...</td>\n    </tr>\n    <tr>\n      <th>01-10-22</th>\n      <td>-0.488889</td>\n      <td>-338.500</td>\n      <td>-2.478635</td>\n      <td>1.509971</td>\n    </tr>\n    <tr>\n      <th>01-11-22</th>\n      <td>-0.617143</td>\n      <td>-417.250</td>\n      <td>-2.397513</td>\n      <td>1.036597</td>\n    </tr>\n    <tr>\n      <th>01-12-22</th>\n      <td>-0.754579</td>\n      <td>-453.250</td>\n      <td>-1.018877</td>\n      <td>0.413467</td>\n    </tr>\n    <tr>\n      <th>01-01-23</th>\n      <td>-0.589130</td>\n      <td>-479.125</td>\n      <td>-0.935677</td>\n      <td>-0.069025</td>\n    </tr>\n    <tr>\n      <th>01-02-23</th>\n      <td>-0.864035</td>\n      <td>inf</td>\n      <td>0.820155</td>\n      <td>-0.014680</td>\n    </tr>\n  </tbody>\n</table>\n<p>189 rows × 4 columns</p>\n</div>"
     },
     "execution_count": 21,
     "metadata": {},
     "output_type": "execute_result"
    }
   ],
   "source": [
    "df6"
   ],
   "metadata": {
    "collapsed": false,
    "pycharm": {
     "name": "#%%\n"
    }
   }
  },
  {
   "cell_type": "code",
   "execution_count": 22,
   "outputs": [
    {
     "data": {
      "text/plain": "          us_unemployment_1y_return  FED_RATE_1y_return  india_cpi_1y_return  \\\n01-12-12                  -0.179412           -3.103896            -3.291962   \n01-01-13                  -0.588855           -2.416667            -3.764741   \n01-02-13                  -0.070568           -2.333333            -5.170809   \n01-03-13                  -0.039634           -2.076923           -17.300458   \n01-04-13                  -0.260163           -0.821429            -0.966911   \n...                             ...                 ...                  ...   \n01-10-22                  -0.488889         -338.500000            -2.478635   \n01-11-22                  -0.617143         -417.250000            -2.397513   \n01-12-22                  -0.754579         -453.250000            -1.018877   \n01-01-23                  -0.589130         -479.125000            -0.935677   \n01-02-23                  -0.864035            0.000000             0.820155   \n\n          bond_Return_1y_return  Nifty_50_1y_return  Dow_Jons_1y_return  \\\n01-12-12              -1.000000           -1.903389            4.032268   \n01-01-13              -1.000000           -1.864414            3.320984   \n01-02-13              -1.000000           -3.980358            5.374780   \n01-03-13              -1.000000          -10.537118            2.012143   \n01-04-13              -1.000000           -2.847341           31.786410   \n...                         ...                 ...                 ...   \n01-10-22               1.509971           -0.903734           -1.188335   \n01-11-22               1.036597           -0.775301           -0.999641   \n01-12-22               0.413467           -0.722503           -1.224599   \n01-01-23              -0.069025           -0.895511           -1.266339   \n01-02-23              -0.014680           -0.688406           -1.249722   \n\n          S&P_500_1y_return  NASDAQ_1y_return  BRENT_1y_return  \\\n01-12-12          -2.338249         -2.180957        -0.898558   \n01-01-13           1.461299         -7.332898        -1.126153   \n01-02-13           0.263311          1.923878        -1.351174   \n01-03-13           8.406857          2.592086        -2.665486   \n01-04-13           0.563889          4.504704        -2.414882   \n...                     ...               ...              ...   \n01-10-22          -1.292761         -1.702867        -0.786077   \n01-11-22          -1.226113         -1.638231        -0.656647   \n01-12-22          -1.423753         -2.053319        -0.966960   \n01-01-23          -1.599879         -5.055466        -1.068463   \n01-02-23          -1.605425         -0.329409        -1.256181   \n\n          BOND_10Y_1y_return  Gold_1y_return  Inr_Usd_1y_return  \\\n01-12-12            2.169569       -0.888880          -3.430186   \n01-01-13            0.172977       -2.030506          -0.581497   \n01-02-13           -1.302716       -2.011685          -0.161199   \n01-03-13           -1.394923        1.388071          -0.096820   \n01-04-13           -1.018429        1.748531          -0.392238   \n...                      ...             ...                ...   \n01-10-22           -0.041580        0.047239           0.077939   \n01-11-22            0.188392        4.189681           4.445757   \n01-12-22            0.952676        2.002440           0.545825   \n01-01-23            0.661038       -5.105408           4.107948   \n01-02-23            1.294377       -1.771238           2.190642   \n\n          Dollar_Index_1y_return  sgx_1y_return  indiavix_1y_return  \n01-12-12               -0.434921      -1.901485           -2.116807  \n01-01-13               -1.035518      -1.873055           -2.892508  \n01-02-13               -2.407494      19.474384           -3.409388  \n01-03-13                1.803683      -0.025765           -5.018268  \n01-04-13               -0.332620      -2.871471            1.023482  \n...                          ...            ...                 ...  \n01-10-22               -5.877381      -0.899858           -1.242082  \n01-11-22                0.779283      -0.770745          -14.909857  \n01-12-22               -1.749303      -0.723547            0.556743  \n01-01-23                0.060153      -0.876654           -1.888587  \n01-02-23                0.264558      -0.669739            2.856548  \n\n[120 rows x 15 columns]",
      "text/html": "<div>\n<style scoped>\n    .dataframe tbody tr th:only-of-type {\n        vertical-align: middle;\n    }\n\n    .dataframe tbody tr th {\n        vertical-align: top;\n    }\n\n    .dataframe thead th {\n        text-align: right;\n    }\n</style>\n<table border=\"1\" class=\"dataframe\">\n  <thead>\n    <tr style=\"text-align: right;\">\n      <th></th>\n      <th>us_unemployment_1y_return</th>\n      <th>FED_RATE_1y_return</th>\n      <th>india_cpi_1y_return</th>\n      <th>bond_Return_1y_return</th>\n      <th>Nifty_50_1y_return</th>\n      <th>Dow_Jons_1y_return</th>\n      <th>S&amp;P_500_1y_return</th>\n      <th>NASDAQ_1y_return</th>\n      <th>BRENT_1y_return</th>\n      <th>BOND_10Y_1y_return</th>\n      <th>Gold_1y_return</th>\n      <th>Inr_Usd_1y_return</th>\n      <th>Dollar_Index_1y_return</th>\n      <th>sgx_1y_return</th>\n      <th>indiavix_1y_return</th>\n    </tr>\n  </thead>\n  <tbody>\n    <tr>\n      <th>01-12-12</th>\n      <td>-0.179412</td>\n      <td>-3.103896</td>\n      <td>-3.291962</td>\n      <td>-1.000000</td>\n      <td>-1.903389</td>\n      <td>4.032268</td>\n      <td>-2.338249</td>\n      <td>-2.180957</td>\n      <td>-0.898558</td>\n      <td>2.169569</td>\n      <td>-0.888880</td>\n      <td>-3.430186</td>\n      <td>-0.434921</td>\n      <td>-1.901485</td>\n      <td>-2.116807</td>\n    </tr>\n    <tr>\n      <th>01-01-13</th>\n      <td>-0.588855</td>\n      <td>-2.416667</td>\n      <td>-3.764741</td>\n      <td>-1.000000</td>\n      <td>-1.864414</td>\n      <td>3.320984</td>\n      <td>1.461299</td>\n      <td>-7.332898</td>\n      <td>-1.126153</td>\n      <td>0.172977</td>\n      <td>-2.030506</td>\n      <td>-0.581497</td>\n      <td>-1.035518</td>\n      <td>-1.873055</td>\n      <td>-2.892508</td>\n    </tr>\n    <tr>\n      <th>01-02-13</th>\n      <td>-0.070568</td>\n      <td>-2.333333</td>\n      <td>-5.170809</td>\n      <td>-1.000000</td>\n      <td>-3.980358</td>\n      <td>5.374780</td>\n      <td>0.263311</td>\n      <td>1.923878</td>\n      <td>-1.351174</td>\n      <td>-1.302716</td>\n      <td>-2.011685</td>\n      <td>-0.161199</td>\n      <td>-2.407494</td>\n      <td>19.474384</td>\n      <td>-3.409388</td>\n    </tr>\n    <tr>\n      <th>01-03-13</th>\n      <td>-0.039634</td>\n      <td>-2.076923</td>\n      <td>-17.300458</td>\n      <td>-1.000000</td>\n      <td>-10.537118</td>\n      <td>2.012143</td>\n      <td>8.406857</td>\n      <td>2.592086</td>\n      <td>-2.665486</td>\n      <td>-1.394923</td>\n      <td>1.388071</td>\n      <td>-0.096820</td>\n      <td>1.803683</td>\n      <td>-0.025765</td>\n      <td>-5.018268</td>\n    </tr>\n    <tr>\n      <th>01-04-13</th>\n      <td>-0.260163</td>\n      <td>-0.821429</td>\n      <td>-0.966911</td>\n      <td>-1.000000</td>\n      <td>-2.847341</td>\n      <td>31.786410</td>\n      <td>0.563889</td>\n      <td>4.504704</td>\n      <td>-2.414882</td>\n      <td>-1.018429</td>\n      <td>1.748531</td>\n      <td>-0.392238</td>\n      <td>-0.332620</td>\n      <td>-2.871471</td>\n      <td>1.023482</td>\n    </tr>\n    <tr>\n      <th>...</th>\n      <td>...</td>\n      <td>...</td>\n      <td>...</td>\n      <td>...</td>\n      <td>...</td>\n      <td>...</td>\n      <td>...</td>\n      <td>...</td>\n      <td>...</td>\n      <td>...</td>\n      <td>...</td>\n      <td>...</td>\n      <td>...</td>\n      <td>...</td>\n      <td>...</td>\n    </tr>\n    <tr>\n      <th>01-10-22</th>\n      <td>-0.488889</td>\n      <td>-338.500000</td>\n      <td>-2.478635</td>\n      <td>1.509971</td>\n      <td>-0.903734</td>\n      <td>-1.188335</td>\n      <td>-1.292761</td>\n      <td>-1.702867</td>\n      <td>-0.786077</td>\n      <td>-0.041580</td>\n      <td>0.047239</td>\n      <td>0.077939</td>\n      <td>-5.877381</td>\n      <td>-0.899858</td>\n      <td>-1.242082</td>\n    </tr>\n    <tr>\n      <th>01-11-22</th>\n      <td>-0.617143</td>\n      <td>-417.250000</td>\n      <td>-2.397513</td>\n      <td>1.036597</td>\n      <td>-0.775301</td>\n      <td>-0.999641</td>\n      <td>-1.226113</td>\n      <td>-1.638231</td>\n      <td>-0.656647</td>\n      <td>0.188392</td>\n      <td>4.189681</td>\n      <td>4.445757</td>\n      <td>0.779283</td>\n      <td>-0.770745</td>\n      <td>-14.909857</td>\n    </tr>\n    <tr>\n      <th>01-12-22</th>\n      <td>-0.754579</td>\n      <td>-453.250000</td>\n      <td>-1.018877</td>\n      <td>0.413467</td>\n      <td>-0.722503</td>\n      <td>-1.224599</td>\n      <td>-1.423753</td>\n      <td>-2.053319</td>\n      <td>-0.966960</td>\n      <td>0.952676</td>\n      <td>2.002440</td>\n      <td>0.545825</td>\n      <td>-1.749303</td>\n      <td>-0.723547</td>\n      <td>0.556743</td>\n    </tr>\n    <tr>\n      <th>01-01-23</th>\n      <td>-0.589130</td>\n      <td>-479.125000</td>\n      <td>-0.935677</td>\n      <td>-0.069025</td>\n      <td>-0.895511</td>\n      <td>-1.266339</td>\n      <td>-1.599879</td>\n      <td>-5.055466</td>\n      <td>-1.068463</td>\n      <td>0.661038</td>\n      <td>-5.105408</td>\n      <td>4.107948</td>\n      <td>0.060153</td>\n      <td>-0.876654</td>\n      <td>-1.888587</td>\n    </tr>\n    <tr>\n      <th>01-02-23</th>\n      <td>-0.864035</td>\n      <td>0.000000</td>\n      <td>0.820155</td>\n      <td>-0.014680</td>\n      <td>-0.688406</td>\n      <td>-1.249722</td>\n      <td>-1.605425</td>\n      <td>-0.329409</td>\n      <td>-1.256181</td>\n      <td>1.294377</td>\n      <td>-1.771238</td>\n      <td>2.190642</td>\n      <td>0.264558</td>\n      <td>-0.669739</td>\n      <td>2.856548</td>\n    </tr>\n  </tbody>\n</table>\n<p>120 rows × 15 columns</p>\n</div>"
     },
     "execution_count": 22,
     "metadata": {},
     "output_type": "execute_result"
    }
   ],
   "source": [
    "return_1y = pd.concat([df6,df7], axis=1)\n",
    "return_1y = return_1y.dropna()\n",
    "return_1y.replace([np.inf, -np.inf], 0, inplace=True)\n",
    "return_1y"
   ],
   "metadata": {
    "collapsed": false,
    "pycharm": {
     "name": "#%%\n"
    }
   }
  },
  {
   "cell_type": "code",
   "execution_count": 23,
   "outputs": [
    {
     "data": {
      "text/plain": "          us_unemployment_1m_return  US_CPI_1m_return  FED_RATE_1m_return  \\\n01-01-08                      -1.00             -1.93                0.27   \n01-02-08                       0.00             -2.22                2.44   \n01-03-08                      -3.04             -0.81               -0.49   \n01-04-08                      -1.48             -0.00                0.02   \n01-05-08                      -5.08             -6.42                0.04   \n...                             ...               ...                 ...   \n01-10-22                      -2.06              6.53                1.06   \n01-11-22                      -1.47              0.47                0.12   \n01-12-22                       0.03              0.13               -0.63   \n01-01-23                       0.03             -0.93               -0.34   \n01-02-23                      -3.06              7.52               -0.01   \n\n          india_cpi_1m_return  Nifty_50_1m_return  Dow_Jons_1m_return  \\\n01-01-08                 0.00           -1.740273           -1.907285   \n01-02-08                 0.00           -1.364678           -0.573348   \n01-03-08               -57.30           -0.622559           -2.378893   \n01-04-08                -1.02           -0.916326           -0.657176   \n01-05-08                -0.01            0.490591           -0.665432   \n...                       ...                 ...                 ...   \n01-10-22                -1.57           -3.249616           -1.418500   \n01-11-22                 0.78           -2.322544           -0.514827   \n01-12-22                -1.15           -1.035931           -0.737765   \n01-01-23                 5.92           -6.263978           -1.718143   \n01-02-23                -0.99            4.766112           -1.436016   \n\n          NASDAQ_1m_return  BRENT_1m_return  BOND_10Y_1m_return  \\\n01-01-08         -2.148511        -0.389611          -49.147757   \n01-02-08        -17.204443        -0.536691           -2.640800   \n01-03-08         -5.037357         0.907588           -2.098772   \n01-04-08         -0.308142        -1.017062            3.456409   \n01-05-08          0.354165         0.301586            0.212544   \n...                    ...              ...                 ...   \n01-10-22         -5.992134        -1.228532           -0.233398   \n01-11-22          0.170210        -1.664327           -0.511814   \n01-12-22         -2.483332         0.743761           -0.569696   \n01-01-23         -1.998147         0.033959           -1.335379   \n01-02-23         -1.343967        -1.498058           -0.411818   \n\n          Gold_1m_return  Inr_Usd_1m_return  Dollar_Index_1m_return  \\\n01-01-08       -1.427281           0.064940               -0.790888   \n01-02-08       -1.066902           0.853322               -0.849704   \n01-03-08       -0.377219           0.242068                3.969377   \n01-04-08       -2.192712           1.965266               -1.727833   \n01-05-08       -0.967394          -1.428208                0.611462   \n...                  ...                ...                     ...   \n01-10-22       -0.589414         -14.559356               -2.117325   \n01-11-22        0.029025           0.270736               -1.808025   \n01-12-22       -0.808562          -1.461215               -0.787486   \n01-01-23        3.679154          -2.045545               -0.080379   \n01-02-23       -1.510921          -1.973593                5.151811   \n\n          sgx_1m_return  indiavix_1m_return  \n01-01-08      -1.667327           -2.658513  \n01-02-08      -1.514928           -1.069338  \n01-03-08      -0.500891            2.568136  \n01-04-08      -0.910453           -0.403968  \n01-05-08       0.800141           -1.184897  \n...                 ...                 ...  \n01-10-22      -4.329774           -1.998233  \n01-11-22      -2.044104            1.517237  \n01-12-22      -1.078462           -1.367788  \n01-01-23      -1.001341           -1.132070  \n01-02-23      -1.970394            0.096863  \n\n[157 rows x 14 columns]",
      "text/html": "<div>\n<style scoped>\n    .dataframe tbody tr th:only-of-type {\n        vertical-align: middle;\n    }\n\n    .dataframe tbody tr th {\n        vertical-align: top;\n    }\n\n    .dataframe thead th {\n        text-align: right;\n    }\n</style>\n<table border=\"1\" class=\"dataframe\">\n  <thead>\n    <tr style=\"text-align: right;\">\n      <th></th>\n      <th>us_unemployment_1m_return</th>\n      <th>US_CPI_1m_return</th>\n      <th>FED_RATE_1m_return</th>\n      <th>india_cpi_1m_return</th>\n      <th>Nifty_50_1m_return</th>\n      <th>Dow_Jons_1m_return</th>\n      <th>NASDAQ_1m_return</th>\n      <th>BRENT_1m_return</th>\n      <th>BOND_10Y_1m_return</th>\n      <th>Gold_1m_return</th>\n      <th>Inr_Usd_1m_return</th>\n      <th>Dollar_Index_1m_return</th>\n      <th>sgx_1m_return</th>\n      <th>indiavix_1m_return</th>\n    </tr>\n  </thead>\n  <tbody>\n    <tr>\n      <th>01-01-08</th>\n      <td>-1.00</td>\n      <td>-1.93</td>\n      <td>0.27</td>\n      <td>0.00</td>\n      <td>-1.740273</td>\n      <td>-1.907285</td>\n      <td>-2.148511</td>\n      <td>-0.389611</td>\n      <td>-49.147757</td>\n      <td>-1.427281</td>\n      <td>0.064940</td>\n      <td>-0.790888</td>\n      <td>-1.667327</td>\n      <td>-2.658513</td>\n    </tr>\n    <tr>\n      <th>01-02-08</th>\n      <td>0.00</td>\n      <td>-2.22</td>\n      <td>2.44</td>\n      <td>0.00</td>\n      <td>-1.364678</td>\n      <td>-0.573348</td>\n      <td>-17.204443</td>\n      <td>-0.536691</td>\n      <td>-2.640800</td>\n      <td>-1.066902</td>\n      <td>0.853322</td>\n      <td>-0.849704</td>\n      <td>-1.514928</td>\n      <td>-1.069338</td>\n    </tr>\n    <tr>\n      <th>01-03-08</th>\n      <td>-3.04</td>\n      <td>-0.81</td>\n      <td>-0.49</td>\n      <td>-57.30</td>\n      <td>-0.622559</td>\n      <td>-2.378893</td>\n      <td>-5.037357</td>\n      <td>0.907588</td>\n      <td>-2.098772</td>\n      <td>-0.377219</td>\n      <td>0.242068</td>\n      <td>3.969377</td>\n      <td>-0.500891</td>\n      <td>2.568136</td>\n    </tr>\n    <tr>\n      <th>01-04-08</th>\n      <td>-1.48</td>\n      <td>-0.00</td>\n      <td>0.02</td>\n      <td>-1.02</td>\n      <td>-0.916326</td>\n      <td>-0.657176</td>\n      <td>-0.308142</td>\n      <td>-1.017062</td>\n      <td>3.456409</td>\n      <td>-2.192712</td>\n      <td>1.965266</td>\n      <td>-1.727833</td>\n      <td>-0.910453</td>\n      <td>-0.403968</td>\n    </tr>\n    <tr>\n      <th>01-05-08</th>\n      <td>-5.08</td>\n      <td>-6.42</td>\n      <td>0.04</td>\n      <td>-0.01</td>\n      <td>0.490591</td>\n      <td>-0.665432</td>\n      <td>0.354165</td>\n      <td>0.301586</td>\n      <td>0.212544</td>\n      <td>-0.967394</td>\n      <td>-1.428208</td>\n      <td>0.611462</td>\n      <td>0.800141</td>\n      <td>-1.184897</td>\n    </tr>\n    <tr>\n      <th>...</th>\n      <td>...</td>\n      <td>...</td>\n      <td>...</td>\n      <td>...</td>\n      <td>...</td>\n      <td>...</td>\n      <td>...</td>\n      <td>...</td>\n      <td>...</td>\n      <td>...</td>\n      <td>...</td>\n      <td>...</td>\n      <td>...</td>\n      <td>...</td>\n    </tr>\n    <tr>\n      <th>01-10-22</th>\n      <td>-2.06</td>\n      <td>6.53</td>\n      <td>1.06</td>\n      <td>-1.57</td>\n      <td>-3.249616</td>\n      <td>-1.418500</td>\n      <td>-5.992134</td>\n      <td>-1.228532</td>\n      <td>-0.233398</td>\n      <td>-0.589414</td>\n      <td>-14.559356</td>\n      <td>-2.117325</td>\n      <td>-4.329774</td>\n      <td>-1.998233</td>\n    </tr>\n    <tr>\n      <th>01-11-22</th>\n      <td>-1.47</td>\n      <td>0.47</td>\n      <td>0.12</td>\n      <td>0.78</td>\n      <td>-2.322544</td>\n      <td>-0.514827</td>\n      <td>0.170210</td>\n      <td>-1.664327</td>\n      <td>-0.511814</td>\n      <td>0.029025</td>\n      <td>0.270736</td>\n      <td>-1.808025</td>\n      <td>-2.044104</td>\n      <td>1.517237</td>\n    </tr>\n    <tr>\n      <th>01-12-22</th>\n      <td>0.03</td>\n      <td>0.13</td>\n      <td>-0.63</td>\n      <td>-1.15</td>\n      <td>-1.035931</td>\n      <td>-0.737765</td>\n      <td>-2.483332</td>\n      <td>0.743761</td>\n      <td>-0.569696</td>\n      <td>-0.808562</td>\n      <td>-1.461215</td>\n      <td>-0.787486</td>\n      <td>-1.078462</td>\n      <td>-1.367788</td>\n    </tr>\n    <tr>\n      <th>01-01-23</th>\n      <td>0.03</td>\n      <td>-0.93</td>\n      <td>-0.34</td>\n      <td>5.92</td>\n      <td>-6.263978</td>\n      <td>-1.718143</td>\n      <td>-1.998147</td>\n      <td>0.033959</td>\n      <td>-1.335379</td>\n      <td>3.679154</td>\n      <td>-2.045545</td>\n      <td>-0.080379</td>\n      <td>-1.001341</td>\n      <td>-1.132070</td>\n    </tr>\n    <tr>\n      <th>01-02-23</th>\n      <td>-3.06</td>\n      <td>7.52</td>\n      <td>-0.01</td>\n      <td>-0.99</td>\n      <td>4.766112</td>\n      <td>-1.436016</td>\n      <td>-1.343967</td>\n      <td>-1.498058</td>\n      <td>-0.411818</td>\n      <td>-1.510921</td>\n      <td>-1.973593</td>\n      <td>5.151811</td>\n      <td>-1.970394</td>\n      <td>0.096863</td>\n    </tr>\n  </tbody>\n</table>\n<p>157 rows × 14 columns</p>\n</div>"
     },
     "execution_count": 23,
     "metadata": {},
     "output_type": "execute_result"
    }
   ],
   "source": [
    "return_1m = pd.concat([df4,df5], axis=1)\n",
    "return_1m = return_1m.dropna()\n",
    "return_1m.replace([np.inf, -np.inf], 0, inplace=True)\n",
    "return_1m"
   ],
   "metadata": {
    "collapsed": false,
    "pycharm": {
     "name": "#%%\n"
    }
   }
  },
  {
   "cell_type": "code",
   "execution_count": 24,
   "outputs": [
    {
     "data": {
      "text/plain": "Index(['Nifty_50_1d_return', 'Nifty_50_7d_return', 'Nifty_50_1m_return',\n       'Nifty_50_1y_return', 'Dow_Jons_1d_return', 'Dow_Jons_7d_return',\n       'Dow_Jons_1m_return', 'Dow_Jons_1y_return', 'S&P_500_1d_return',\n       'S&P_500_7d_return', 'S&P_500_1m_return', 'S&P_500_1y_return',\n       'NASDAQ_1d_return', 'NASDAQ_7d_return', 'NASDAQ_1m_return',\n       'NASDAQ_1y_return', 'BRENT_1d_return', 'BRENT_7d_return',\n       'BRENT_1m_return', 'BRENT_1y_return', 'BOND_10Y_1d_return',\n       'BOND_10Y_7d_return', 'BOND_10Y_1m_return', 'BOND_10Y_1y_return',\n       'Gold_1d_return', 'Gold_7d_return', 'Gold_1m_return', 'Gold_1y_return',\n       'Inr_Usd_1d_return', 'Inr_Usd_7d_return', 'Inr_Usd_1m_return',\n       'Inr_Usd_1y_return', 'Dollar_Index_1d_return', 'Dollar_Index_7d_return',\n       'Dollar_Index_1m_return', 'Dollar_Index_1y_return', 'sgx_1d_return',\n       'sgx_7d_return', 'sgx_1m_return', 'sgx_1y_return', 'indiavix_1d_return',\n       'indiavix_7d_return', 'indiavix_1m_return', 'indiavix_1y_return'],\n      dtype='object')"
     },
     "execution_count": 24,
     "metadata": {},
     "output_type": "execute_result"
    }
   ],
   "source": [
    "df3.columns"
   ],
   "metadata": {
    "collapsed": false,
    "pycharm": {
     "name": "#%%\n"
    }
   }
  },
  {
   "cell_type": "code",
   "execution_count": 25,
   "outputs": [
    {
     "data": {
      "text/plain": "          Nifty_50_1d_return  Dow_Jons_1d_return  S&P_500_1d_return  \\\nDate                                                                  \n07-03-08           -3.590735           -9.741968          -6.772673   \n10-03-08           -1.198291           -0.562125          -0.488627   \n12-03-08           -0.908122           -1.107938          -1.242273   \n13-03-08          -41.669658           -1.765236          -1.569938   \n14-03-08           -1.518377           -6.467083          -5.053751   \n...                      ...                 ...                ...   \n29-03-23           -4.801728           -9.557403         -10.046178   \n31-03-23            1.146847            0.704188           0.421222   \n03-04-23           -0.864952           -0.422278          -0.817199   \n05-04-23            3.142212           -1.358646          -3.237155   \n06-04-23           -0.737620           -1.021780          -1.432533   \n\n          NASDAQ_1d_return  BRENT_1d_return  BOND_10Y_1d_return  \\\nDate                                                              \n07-03-08         -5.787501        -0.827670           -2.292175   \n10-03-08         -0.265148         1.388035           -0.293282   \n12-03-08         -1.132312        -0.073911           -1.683766   \n13-03-08         -2.669030         0.233156           -1.465969   \n14-03-08         -3.567089        -2.042657           -3.183715   \n...                    ...              ...                 ...   \n29-03-23         -5.001279        -1.693416           -0.945003   \n31-03-23          0.382088        -5.046026          -36.978140   \n03-04-23         -1.107129         2.398409           -0.092796   \n05-04-23          4.948951        -0.989079            1.276072   \n06-04-23         -1.480618         1.165307           -1.007298   \n\n          Gold_1d_return  Inr_Usd_1d_return  Dollar_Index_1d_return  \\\nDate                                                                  \n07-03-08       -1.613607          -2.858730                1.506145   \n10-03-08       -0.833349           0.152018               -0.910562   \n12-03-08        0.065043           0.414945               -4.022455   \n13-03-08        1.921006          -1.743428               -0.620439   \n14-03-08       -0.568907          -1.336707                0.248094   \n...                  ...                ...                     ...   \n29-03-23       -1.311808          -0.591010               -1.490420   \n31-03-23       -1.461793           0.261633               -1.617771   \n03-04-23        4.130329          -2.322361                2.234979   \n05-04-23        1.464567          -1.829540               -0.426234   \n06-04-23       -1.238790           1.356339               -0.874709   \n\n          sgx_1d_return  indiavix_1d_return  \nDate                                         \n07-03-08      -4.274937           -0.870647  \n10-03-08      -1.000000            7.526045  \n12-03-08      -0.892878           -3.989905  \n13-03-08     -17.270544           -6.479558  \n14-03-08      -1.602498           -2.609305  \n...                 ...                 ...  \n29-03-23      -3.567208            3.365632  \n31-03-23       0.322594           -0.478895  \n03-04-23      -1.084189           -0.467526  \n05-04-23      -6.570148           -0.493436  \n06-04-23      -0.327242            2.614764  \n\n[3312 rows x 11 columns]",
      "text/html": "<div>\n<style scoped>\n    .dataframe tbody tr th:only-of-type {\n        vertical-align: middle;\n    }\n\n    .dataframe tbody tr th {\n        vertical-align: top;\n    }\n\n    .dataframe thead th {\n        text-align: right;\n    }\n</style>\n<table border=\"1\" class=\"dataframe\">\n  <thead>\n    <tr style=\"text-align: right;\">\n      <th></th>\n      <th>Nifty_50_1d_return</th>\n      <th>Dow_Jons_1d_return</th>\n      <th>S&amp;P_500_1d_return</th>\n      <th>NASDAQ_1d_return</th>\n      <th>BRENT_1d_return</th>\n      <th>BOND_10Y_1d_return</th>\n      <th>Gold_1d_return</th>\n      <th>Inr_Usd_1d_return</th>\n      <th>Dollar_Index_1d_return</th>\n      <th>sgx_1d_return</th>\n      <th>indiavix_1d_return</th>\n    </tr>\n    <tr>\n      <th>Date</th>\n      <th></th>\n      <th></th>\n      <th></th>\n      <th></th>\n      <th></th>\n      <th></th>\n      <th></th>\n      <th></th>\n      <th></th>\n      <th></th>\n      <th></th>\n    </tr>\n  </thead>\n  <tbody>\n    <tr>\n      <th>07-03-08</th>\n      <td>-3.590735</td>\n      <td>-9.741968</td>\n      <td>-6.772673</td>\n      <td>-5.787501</td>\n      <td>-0.827670</td>\n      <td>-2.292175</td>\n      <td>-1.613607</td>\n      <td>-2.858730</td>\n      <td>1.506145</td>\n      <td>-4.274937</td>\n      <td>-0.870647</td>\n    </tr>\n    <tr>\n      <th>10-03-08</th>\n      <td>-1.198291</td>\n      <td>-0.562125</td>\n      <td>-0.488627</td>\n      <td>-0.265148</td>\n      <td>1.388035</td>\n      <td>-0.293282</td>\n      <td>-0.833349</td>\n      <td>0.152018</td>\n      <td>-0.910562</td>\n      <td>-1.000000</td>\n      <td>7.526045</td>\n    </tr>\n    <tr>\n      <th>12-03-08</th>\n      <td>-0.908122</td>\n      <td>-1.107938</td>\n      <td>-1.242273</td>\n      <td>-1.132312</td>\n      <td>-0.073911</td>\n      <td>-1.683766</td>\n      <td>0.065043</td>\n      <td>0.414945</td>\n      <td>-4.022455</td>\n      <td>-0.892878</td>\n      <td>-3.989905</td>\n    </tr>\n    <tr>\n      <th>13-03-08</th>\n      <td>-41.669658</td>\n      <td>-1.765236</td>\n      <td>-1.569938</td>\n      <td>-2.669030</td>\n      <td>0.233156</td>\n      <td>-1.465969</td>\n      <td>1.921006</td>\n      <td>-1.743428</td>\n      <td>-0.620439</td>\n      <td>-17.270544</td>\n      <td>-6.479558</td>\n    </tr>\n    <tr>\n      <th>14-03-08</th>\n      <td>-1.518377</td>\n      <td>-6.467083</td>\n      <td>-5.053751</td>\n      <td>-3.567089</td>\n      <td>-2.042657</td>\n      <td>-3.183715</td>\n      <td>-0.568907</td>\n      <td>-1.336707</td>\n      <td>0.248094</td>\n      <td>-1.602498</td>\n      <td>-2.609305</td>\n    </tr>\n    <tr>\n      <th>...</th>\n      <td>...</td>\n      <td>...</td>\n      <td>...</td>\n      <td>...</td>\n      <td>...</td>\n      <td>...</td>\n      <td>...</td>\n      <td>...</td>\n      <td>...</td>\n      <td>...</td>\n      <td>...</td>\n    </tr>\n    <tr>\n      <th>29-03-23</th>\n      <td>-4.801728</td>\n      <td>-9.557403</td>\n      <td>-10.046178</td>\n      <td>-5.001279</td>\n      <td>-1.693416</td>\n      <td>-0.945003</td>\n      <td>-1.311808</td>\n      <td>-0.591010</td>\n      <td>-1.490420</td>\n      <td>-3.567208</td>\n      <td>3.365632</td>\n    </tr>\n    <tr>\n      <th>31-03-23</th>\n      <td>1.146847</td>\n      <td>0.704188</td>\n      <td>0.421222</td>\n      <td>0.382088</td>\n      <td>-5.046026</td>\n      <td>-36.978140</td>\n      <td>-1.461793</td>\n      <td>0.261633</td>\n      <td>-1.617771</td>\n      <td>0.322594</td>\n      <td>-0.478895</td>\n    </tr>\n    <tr>\n      <th>03-04-23</th>\n      <td>-0.864952</td>\n      <td>-0.422278</td>\n      <td>-0.817199</td>\n      <td>-1.107129</td>\n      <td>2.398409</td>\n      <td>-0.092796</td>\n      <td>4.130329</td>\n      <td>-2.322361</td>\n      <td>2.234979</td>\n      <td>-1.084189</td>\n      <td>-0.467526</td>\n    </tr>\n    <tr>\n      <th>05-04-23</th>\n      <td>3.142212</td>\n      <td>-1.358646</td>\n      <td>-3.237155</td>\n      <td>4.948951</td>\n      <td>-0.989079</td>\n      <td>1.276072</td>\n      <td>1.464567</td>\n      <td>-1.829540</td>\n      <td>-0.426234</td>\n      <td>-6.570148</td>\n      <td>-0.493436</td>\n    </tr>\n    <tr>\n      <th>06-04-23</th>\n      <td>-0.737620</td>\n      <td>-1.021780</td>\n      <td>-1.432533</td>\n      <td>-1.480618</td>\n      <td>1.165307</td>\n      <td>-1.007298</td>\n      <td>-1.238790</td>\n      <td>1.356339</td>\n      <td>-0.874709</td>\n      <td>-0.327242</td>\n      <td>2.614764</td>\n    </tr>\n  </tbody>\n</table>\n<p>3312 rows × 11 columns</p>\n</div>"
     },
     "execution_count": 25,
     "metadata": {},
     "output_type": "execute_result"
    }
   ],
   "source": [
    "return_1d = df1.drop(columns=['Nifty_50', 'Dow_Jons', 'S&P_500', 'NASDAQ', 'BRENT', 'BOND_10Y','Gold', 'Inr_Usd', 'Dollar_Index',\n",
    "                              'sgx', 'indiavix','Nifty_50_7d_return', 'Nifty_50_1m_return','Nifty_50_1y_return', 'Dow_Jons_7d_return',\n",
    "                              'Dow_Jons_1m_return', 'Dow_Jons_1y_return', 'S&P_500_7d_return', 'S&P_500_1m_return', 'S&P_500_1y_return',\n",
    "                              'NASDAQ_7d_return', 'NASDAQ_1m_return','NASDAQ_1y_return', 'BRENT_7d_return', 'BRENT_1m_return', 'BRENT_1y_return',\n",
    "                              'BOND_10Y_7d_return', 'BOND_10Y_1m_return', 'BOND_10Y_1y_return','Gold_7d_return', 'Gold_1m_return', 'Gold_1y_return',\n",
    "                              'Inr_Usd_7d_return', 'Inr_Usd_1m_return','Inr_Usd_1y_return', 'Dollar_Index_7d_return','Dollar_Index_1m_return',\n",
    "                              'Dollar_Index_1y_return',  'sgx_7d_return', 'sgx_1m_return', 'sgx_1y_return', 'indiavix_7d_return', 'indiavix_1m_return',\n",
    "                              'indiavix_1y_return'])\n",
    "return_1d.replace([np.inf, -np.inf], np.nan, inplace=True)\n",
    "return_1d = return_1d.dropna()\n",
    "return_1d"
   ],
   "metadata": {
    "collapsed": false,
    "pycharm": {
     "name": "#%%\n"
    }
   }
  },
  {
   "cell_type": "code",
   "execution_count": 26,
   "outputs": [
    {
     "data": {
      "text/plain": "          Nifty_50_7d_return  Dow_Jons_7d_return  S&P_500_7d_return  \\\nDate                                                                  \n19-03-08          -39.396863           -0.896962          -0.416453   \n24-03-08           -0.950854           -4.721039          -2.914190   \n26-03-08           -2.168034            0.903815          18.927910   \n27-03-08           -1.958486           -1.375168          -1.489815   \n28-03-08           -2.315327          -12.043615          -2.636124   \n...                      ...                 ...                ...   \n29-03-23           -1.391961            3.398585           0.993800   \n31-03-23            2.081434           -9.308821         -14.932475   \n03-04-23           -3.949314            2.588704           1.785985   \n05-04-23         -212.553522            4.571011           3.318701   \n06-04-23           -5.193829           -7.592391          -5.266261   \n\n          NASDAQ_7d_return  BRENT_7d_return  BOND_10Y_7d_return  \\\nDate                                                              \n19-03-08          1.081556        -1.582060            0.295158   \n24-03-08         -7.890962        -2.230279           -0.921134   \n26-03-08         18.143736        -1.951473           -2.505928   \n27-03-08          0.000064        -2.801153           -1.596464   \n28-03-08         -2.533638        -1.579831           -1.890439   \n...                    ...              ...                 ...   \n29-03-23          0.064386        -0.490734            7.231247   \n31-03-23          5.159787         2.139210           -1.517457   \n03-04-23          0.858414         3.788250           -4.348153   \n05-04-23          1.424580         0.498662           -6.059334   \n06-04-23         -3.613697         0.860679            5.648856   \n\n          Gold_7d_return  Inr_Usd_7d_return  Dollar_Index_7d_return  \\\nDate                                                                  \n19-03-08       -3.253756          -1.673416               -0.790058   \n24-03-08      -13.056622          -2.221555               -1.636320   \n26-03-08       -2.611166          -6.275383               -1.033381   \n27-03-08       -2.821636           8.957612               -1.053891   \n28-03-08       -0.571583          -4.350729                0.775589   \n...                  ...                ...                     ...   \n29-03-23       -0.054475          -2.371659               -1.128921   \n31-03-23       -1.319113           1.244808               -0.989225   \n03-04-23       -0.854562          -0.773857                0.755773   \n05-04-23       -3.591062           0.156174                1.414597   \n06-04-23        0.128229          -0.153687               -0.259106   \n\n          sgx_7d_return  indiavix_7d_return  \nDate                                         \n19-03-08     -27.944467           -1.643927  \n24-03-08      -1.121973           -1.810451  \n26-03-08      -2.615742            3.299590  \n27-03-08      -2.008395           -1.093939  \n28-03-08      -2.547021           -1.704975  \n...                 ...                 ...  \n29-03-23      -0.309082           -0.127033  \n31-03-23      -6.471258            0.007460  \n03-04-23     -56.891259           -6.444835  \n05-04-23     -15.816026            4.587453  \n06-04-23      -5.040611         -189.495577  \n\n[3455 rows x 11 columns]",
      "text/html": "<div>\n<style scoped>\n    .dataframe tbody tr th:only-of-type {\n        vertical-align: middle;\n    }\n\n    .dataframe tbody tr th {\n        vertical-align: top;\n    }\n\n    .dataframe thead th {\n        text-align: right;\n    }\n</style>\n<table border=\"1\" class=\"dataframe\">\n  <thead>\n    <tr style=\"text-align: right;\">\n      <th></th>\n      <th>Nifty_50_7d_return</th>\n      <th>Dow_Jons_7d_return</th>\n      <th>S&amp;P_500_7d_return</th>\n      <th>NASDAQ_7d_return</th>\n      <th>BRENT_7d_return</th>\n      <th>BOND_10Y_7d_return</th>\n      <th>Gold_7d_return</th>\n      <th>Inr_Usd_7d_return</th>\n      <th>Dollar_Index_7d_return</th>\n      <th>sgx_7d_return</th>\n      <th>indiavix_7d_return</th>\n    </tr>\n    <tr>\n      <th>Date</th>\n      <th></th>\n      <th></th>\n      <th></th>\n      <th></th>\n      <th></th>\n      <th></th>\n      <th></th>\n      <th></th>\n      <th></th>\n      <th></th>\n      <th></th>\n    </tr>\n  </thead>\n  <tbody>\n    <tr>\n      <th>19-03-08</th>\n      <td>-39.396863</td>\n      <td>-0.896962</td>\n      <td>-0.416453</td>\n      <td>1.081556</td>\n      <td>-1.582060</td>\n      <td>0.295158</td>\n      <td>-3.253756</td>\n      <td>-1.673416</td>\n      <td>-0.790058</td>\n      <td>-27.944467</td>\n      <td>-1.643927</td>\n    </tr>\n    <tr>\n      <th>24-03-08</th>\n      <td>-0.950854</td>\n      <td>-4.721039</td>\n      <td>-2.914190</td>\n      <td>-7.890962</td>\n      <td>-2.230279</td>\n      <td>-0.921134</td>\n      <td>-13.056622</td>\n      <td>-2.221555</td>\n      <td>-1.636320</td>\n      <td>-1.121973</td>\n      <td>-1.810451</td>\n    </tr>\n    <tr>\n      <th>26-03-08</th>\n      <td>-2.168034</td>\n      <td>0.903815</td>\n      <td>18.927910</td>\n      <td>18.143736</td>\n      <td>-1.951473</td>\n      <td>-2.505928</td>\n      <td>-2.611166</td>\n      <td>-6.275383</td>\n      <td>-1.033381</td>\n      <td>-2.615742</td>\n      <td>3.299590</td>\n    </tr>\n    <tr>\n      <th>27-03-08</th>\n      <td>-1.958486</td>\n      <td>-1.375168</td>\n      <td>-1.489815</td>\n      <td>0.000064</td>\n      <td>-2.801153</td>\n      <td>-1.596464</td>\n      <td>-2.821636</td>\n      <td>8.957612</td>\n      <td>-1.053891</td>\n      <td>-2.008395</td>\n      <td>-1.093939</td>\n    </tr>\n    <tr>\n      <th>28-03-08</th>\n      <td>-2.315327</td>\n      <td>-12.043615</td>\n      <td>-2.636124</td>\n      <td>-2.533638</td>\n      <td>-1.579831</td>\n      <td>-1.890439</td>\n      <td>-0.571583</td>\n      <td>-4.350729</td>\n      <td>0.775589</td>\n      <td>-2.547021</td>\n      <td>-1.704975</td>\n    </tr>\n    <tr>\n      <th>...</th>\n      <td>...</td>\n      <td>...</td>\n      <td>...</td>\n      <td>...</td>\n      <td>...</td>\n      <td>...</td>\n      <td>...</td>\n      <td>...</td>\n      <td>...</td>\n      <td>...</td>\n      <td>...</td>\n    </tr>\n    <tr>\n      <th>29-03-23</th>\n      <td>-1.391961</td>\n      <td>3.398585</td>\n      <td>0.993800</td>\n      <td>0.064386</td>\n      <td>-0.490734</td>\n      <td>7.231247</td>\n      <td>-0.054475</td>\n      <td>-2.371659</td>\n      <td>-1.128921</td>\n      <td>-0.309082</td>\n      <td>-0.127033</td>\n    </tr>\n    <tr>\n      <th>31-03-23</th>\n      <td>2.081434</td>\n      <td>-9.308821</td>\n      <td>-14.932475</td>\n      <td>5.159787</td>\n      <td>2.139210</td>\n      <td>-1.517457</td>\n      <td>-1.319113</td>\n      <td>1.244808</td>\n      <td>-0.989225</td>\n      <td>-6.471258</td>\n      <td>0.007460</td>\n    </tr>\n    <tr>\n      <th>03-04-23</th>\n      <td>-3.949314</td>\n      <td>2.588704</td>\n      <td>1.785985</td>\n      <td>0.858414</td>\n      <td>3.788250</td>\n      <td>-4.348153</td>\n      <td>-0.854562</td>\n      <td>-0.773857</td>\n      <td>0.755773</td>\n      <td>-56.891259</td>\n      <td>-6.444835</td>\n    </tr>\n    <tr>\n      <th>05-04-23</th>\n      <td>-212.553522</td>\n      <td>4.571011</td>\n      <td>3.318701</td>\n      <td>1.424580</td>\n      <td>0.498662</td>\n      <td>-6.059334</td>\n      <td>-3.591062</td>\n      <td>0.156174</td>\n      <td>1.414597</td>\n      <td>-15.816026</td>\n      <td>4.587453</td>\n    </tr>\n    <tr>\n      <th>06-04-23</th>\n      <td>-5.193829</td>\n      <td>-7.592391</td>\n      <td>-5.266261</td>\n      <td>-3.613697</td>\n      <td>0.860679</td>\n      <td>5.648856</td>\n      <td>0.128229</td>\n      <td>-0.153687</td>\n      <td>-0.259106</td>\n      <td>-5.040611</td>\n      <td>-189.495577</td>\n    </tr>\n  </tbody>\n</table>\n<p>3455 rows × 11 columns</p>\n</div>"
     },
     "execution_count": 26,
     "metadata": {},
     "output_type": "execute_result"
    }
   ],
   "source": [
    "return_1w = df1.drop(columns=['Nifty_50', 'Dow_Jons', 'S&P_500', 'NASDAQ', 'BRENT', 'BOND_10Y','Gold', 'Inr_Usd', 'Dollar_Index', 'sgx',\n",
    "                              'indiavix','Nifty_50_1d_return', 'Nifty_50_1m_return','Nifty_50_1y_return', 'Dow_Jons_1d_return', 'Dow_Jons_1m_return',\n",
    "                              'Dow_Jons_1y_return', 'S&P_500_1d_return','S&P_500_1m_return', 'S&P_500_1y_return','NASDAQ_1d_return',  'NASDAQ_1m_return',\n",
    "                              'NASDAQ_1y_return', 'BRENT_1d_return', 'BRENT_1m_return', 'BRENT_1y_return', 'BOND_10Y_1d_return', 'BOND_10Y_1m_return',\n",
    "                              'BOND_10Y_1y_return','Gold_1d_return', 'Gold_1m_return', 'Gold_1y_return','Inr_Usd_1d_return',  'Inr_Usd_1m_return',\n",
    "                              'Inr_Usd_1y_return', 'Dollar_Index_1d_return', 'Dollar_Index_1m_return', 'Dollar_Index_1y_return', 'sgx_1d_return',\n",
    "                              'sgx_1m_return', 'sgx_1y_return', 'indiavix_1d_return','indiavix_1m_return', 'indiavix_1y_return'])\n",
    "return_1w.replace([np.inf, -np.inf], np.nan, inplace=True)\n",
    "return_1w = return_1w.dropna()\n",
    "return_1w"
   ],
   "metadata": {
    "collapsed": false,
    "pycharm": {
     "name": "#%%\n"
    }
   }
  },
  {
   "cell_type": "code",
   "execution_count": 27,
   "outputs": [],
   "source": [
    "with open('return_1d.pkl', 'wb') as fh:\n",
    "   pickle.dump(return_1d, fh)"
   ],
   "metadata": {
    "collapsed": false,
    "pycharm": {
     "name": "#%%\n"
    }
   }
  },
  {
   "cell_type": "code",
   "execution_count": 28,
   "outputs": [],
   "source": [
    "with open('return_1w.pkl', 'wb') as fh:\n",
    "   pickle.dump(return_1w, fh)\n",
    "with open('return_1m.pkl', 'wb') as fh:\n",
    "   pickle.dump(return_1m, fh)\n",
    "with open('return_1y.pkl', 'wb') as fh:\n",
    "   pickle.dump(return_1y, fh)"
   ],
   "metadata": {
    "collapsed": false,
    "pycharm": {
     "name": "#%%\n"
    }
   }
  }
 ],
 "metadata": {
  "kernelspec": {
   "display_name": "Python 3",
   "language": "python",
   "name": "python3"
  },
  "language_info": {
   "codemirror_mode": {
    "name": "ipython",
    "version": 2
   },
   "file_extension": ".py",
   "mimetype": "text/x-python",
   "name": "python",
   "nbconvert_exporter": "python",
   "pygments_lexer": "ipython2",
   "version": "2.7.6"
  }
 },
 "nbformat": 4,
 "nbformat_minor": 0
}