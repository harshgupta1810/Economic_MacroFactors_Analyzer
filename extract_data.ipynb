{
 "cells": [
  {
   "cell_type": "code",
   "execution_count": 16,
   "metadata": {
    "collapsed": true,
    "pycharm": {
     "name": "#%%\n"
    }
   },
   "outputs": [],
   "source": [
    "import time\n",
    "import yfinance as yf\n",
    "from datetime import date\n",
    "from tqdm import tqdm\n",
    "import pandas as pd\n",
    "import numpy as np\n",
    "import pickle"
   ]
  },
  {
   "cell_type": "markdown",
   "source": [
    "data we are going to extract -\n",
    "Nifty_sectors, NASDAQ,Dow_Jons,Spx, Brent, Gold, INR_USD, Dollar_Index, Bond_Yeild, Nifty, Nifty_Midcap, Nifty_Smallcap"
   ],
   "metadata": {
    "collapsed": false
   }
  },
  {
   "cell_type": "code",
   "execution_count": 17,
   "outputs": [
    {
     "name": "stdout",
     "output_type": "stream",
     "text": [
      "[*********************100%***********************]  1 of 1 completed\n",
      "[*********************100%***********************]  1 of 1 completed\n",
      "[*********************100%***********************]  1 of 1 completed\n",
      "[*********************100%***********************]  1 of 1 completed\n",
      "[*********************100%***********************]  1 of 1 completed\n",
      "[*********************100%***********************]  1 of 1 completed\n",
      "[*********************100%***********************]  1 of 1 completed\n",
      "[*********************100%***********************]  1 of 1 completed\n",
      "[*********************100%***********************]  1 of 1 completed\n",
      "[*********************100%***********************]  1 of 1 completed\n",
      "[*********************100%***********************]  1 of 1 completed\n",
      "[*********************100%***********************]  1 of 1 completed\n",
      "[*********************100%***********************]  1 of 1 completed\n",
      "[*********************100%***********************]  1 of 1 completed\n",
      "[*********************100%***********************]  1 of 1 completed\n",
      "[*********************100%***********************]  1 of 1 completed\n",
      "[*********************100%***********************]  1 of 1 completed\n",
      "[*********************100%***********************]  1 of 1 completed\n",
      "[*********************100%***********************]  1 of 1 completed\n"
     ]
    }
   ],
   "source": [
    "\n",
    "tickers = ['^NSEI','^DJI', '^GSPC', '^IXIC','BZ=F','^TNX','GC=F','INR=X','DX-Y.NYB','^NSEBANK','^CNXIT','^CNXAUTO','^CNXMETAL','^CNXFMCG','^CNXENERGY',\n",
    "           'NIFTY_FIN_SERVICE.NS','^CNXINFRA','^CNXCMDT','^CNXCONSUM']\n",
    "Factors = pd.DataFrame()\n",
    "# Loop through each ticker symbol\n",
    "end = date.today()\n",
    "start = date(year=end.year-20, month=end.month, day=end.day)\n",
    "for ticker in tickers:\n",
    "    # Download the historical data for the ticker\n",
    "    data = yf.download(ticker, start=start, end=end)\n",
    "    data = data.round(2)\n",
    "    Factors[ticker] = data['Close']\n",
    "# Convert the index to a datetime format\n",
    "Factors.index = pd.to_datetime(Factors.index, errors='coerce')\n",
    "# Convert the index to a string format\n",
    "Factors.index = Factors.index.strftime('%d-%m-%y')\n",
    "Factors = Factors.rename(columns={'^DJI': 'Dow_Jons', '^GSPC' : 'SPX_500', '^IXIC' : 'NASDAQ', 'BZ=F' : 'BRENT','^TNX' : 'BOND_10Y',\n",
    "                 'GC=F' : 'Gold','INR=X' : 'Inr_Usd','^NSEI' : 'Nifty_50','DX-Y.NYB' : 'Dollar_Index', '^NSEBANK' : 'Bank_Nifty',\n",
    "                   '^CNXIT' : 'Nifty_IT','^CNXAUTO' : 'Nifty_Auto', '^CNXMETAL':'Nifty_Metal','^CNXFMCG' : 'Nifty_FMGC','^CNXENERGY' : 'Nifty_Energy',\n",
    "                      'NIFTY_FIN_SERVICE.NS' :  'NIFTY_FIN_SERVICE','^CNXINFRA' : 'Nifty_Infra','^CNXCMDT' : 'Nifty_CMDT'\n",
    "                         ,'^CNXCONSUM' : 'Nifty_Consumer'})"
   ],
   "metadata": {
    "collapsed": false,
    "pycharm": {
     "name": "#%%\n"
    }
   }
  },
  {
   "cell_type": "code",
   "execution_count": 18,
   "outputs": [
    {
     "data": {
      "text/plain": "          Nifty_50  Dow_Jons  SPX_500    NASDAQ  BRENT  BOND_10Y    Gold  \\\nDate                                                                       \n17-09-07   4494.65  13403.42  1476.65   2581.66  76.98      4.47   715.8   \n18-09-07   4546.20  13739.39  1519.78   2651.66  77.59      4.48   715.8   \n19-09-07   4732.35  13815.56  1529.03   2666.48  78.47      4.52   722.0   \n20-09-07   4747.55  13766.70  1518.75   2654.29  79.09      4.67   732.4   \n21-09-07   4837.55  13820.19  1525.75   2671.22  79.30      4.63   731.4   \n...            ...       ...      ...       ...    ...       ...     ...   \n25-04-23  17769.25  33530.83  4071.63  11799.16  80.77      3.40  1994.0   \n26-04-23  17813.60  33301.87  4055.99  11854.35  77.69      3.43  1985.7   \n27-04-23  17915.05  33826.16  4135.35  12142.24  78.37      3.53  1989.9   \n28-04-23  18065.00  34098.16  4169.48  12226.58  79.54      3.45  1990.1   \n02-05-23  18147.65  33684.53  4119.58  12080.51  75.32      3.44  2014.3   \n\n          Inr_Usd  Dollar_Index  Bank_Nifty  Nifty_IT  Nifty_Auto  \\\nDate                                                                \n17-09-07    40.38         79.72     6897.10   4573.55         NaN   \n18-09-07    40.22         79.21     7059.65   4576.75         NaN   \n19-09-07    40.03         79.30     7401.85   4667.30         NaN   \n20-09-07    39.62         78.58     7390.15   4566.05         NaN   \n21-09-07    39.77         78.60     7464.50   4603.85         NaN   \n...           ...           ...         ...       ...         ...   \n25-04-23    81.85        101.86    42678.50  26985.80    12904.55   \n26-04-23    81.99        101.47    42829.90  27065.00    12972.75   \n27-04-23    81.77        101.50    43000.85  27355.25    13071.80   \n28-04-23    81.77        101.67    43233.90  27708.20    13189.25   \n02-05-23      NaN        101.96    43352.10  28025.00    13283.15   \n\n          Nifty_Metal  Nifty_FMGC  Nifty_Energy  NIFTY_FIN_SERVICE  \\\nDate                                                                 \n17-09-07          NaN         NaN           NaN                NaN   \n18-09-07          NaN         NaN           NaN                NaN   \n19-09-07          NaN         NaN           NaN                NaN   \n20-09-07          NaN         NaN           NaN                NaN   \n21-09-07          NaN         NaN           NaN                NaN   \n...               ...         ...           ...                ...   \n25-04-23      5738.25    47051.85      23385.75           18961.85   \n26-04-23      5713.20    47387.50      23365.80           19003.00   \n27-04-23      5753.75    47360.15      23443.65           19097.15   \n28-04-23      5799.40    47814.10      23734.55           19162.55   \n02-05-23      5882.00    47750.20      24046.95           19208.05   \n\n          Nifty_Infra  Nifty_CMDT  Nifty_Consumer  \nDate                                               \n17-09-07          NaN         NaN             NaN  \n18-09-07          NaN         NaN             NaN  \n19-09-07          NaN         NaN             NaN  \n20-09-07          NaN         NaN             NaN  \n21-09-07          NaN         NaN             NaN  \n...               ...         ...             ...  \n25-04-23      5226.55     5686.90         7384.85  \n26-04-23      5246.50     5678.65         7411.85  \n27-04-23      5279.10     5712.80         7439.20  \n28-04-23      5356.20     5781.65         7502.05  \n02-05-23      5387.20     5845.25         7522.65  \n\n[3827 rows x 19 columns]",
      "text/html": "<div>\n<style scoped>\n    .dataframe tbody tr th:only-of-type {\n        vertical-align: middle;\n    }\n\n    .dataframe tbody tr th {\n        vertical-align: top;\n    }\n\n    .dataframe thead th {\n        text-align: right;\n    }\n</style>\n<table border=\"1\" class=\"dataframe\">\n  <thead>\n    <tr style=\"text-align: right;\">\n      <th></th>\n      <th>Nifty_50</th>\n      <th>Dow_Jons</th>\n      <th>SPX_500</th>\n      <th>NASDAQ</th>\n      <th>BRENT</th>\n      <th>BOND_10Y</th>\n      <th>Gold</th>\n      <th>Inr_Usd</th>\n      <th>Dollar_Index</th>\n      <th>Bank_Nifty</th>\n      <th>Nifty_IT</th>\n      <th>Nifty_Auto</th>\n      <th>Nifty_Metal</th>\n      <th>Nifty_FMGC</th>\n      <th>Nifty_Energy</th>\n      <th>NIFTY_FIN_SERVICE</th>\n      <th>Nifty_Infra</th>\n      <th>Nifty_CMDT</th>\n      <th>Nifty_Consumer</th>\n    </tr>\n    <tr>\n      <th>Date</th>\n      <th></th>\n      <th></th>\n      <th></th>\n      <th></th>\n      <th></th>\n      <th></th>\n      <th></th>\n      <th></th>\n      <th></th>\n      <th></th>\n      <th></th>\n      <th></th>\n      <th></th>\n      <th></th>\n      <th></th>\n      <th></th>\n      <th></th>\n      <th></th>\n      <th></th>\n    </tr>\n  </thead>\n  <tbody>\n    <tr>\n      <th>17-09-07</th>\n      <td>4494.65</td>\n      <td>13403.42</td>\n      <td>1476.65</td>\n      <td>2581.66</td>\n      <td>76.98</td>\n      <td>4.47</td>\n      <td>715.8</td>\n      <td>40.38</td>\n      <td>79.72</td>\n      <td>6897.10</td>\n      <td>4573.55</td>\n      <td>NaN</td>\n      <td>NaN</td>\n      <td>NaN</td>\n      <td>NaN</td>\n      <td>NaN</td>\n      <td>NaN</td>\n      <td>NaN</td>\n      <td>NaN</td>\n    </tr>\n    <tr>\n      <th>18-09-07</th>\n      <td>4546.20</td>\n      <td>13739.39</td>\n      <td>1519.78</td>\n      <td>2651.66</td>\n      <td>77.59</td>\n      <td>4.48</td>\n      <td>715.8</td>\n      <td>40.22</td>\n      <td>79.21</td>\n      <td>7059.65</td>\n      <td>4576.75</td>\n      <td>NaN</td>\n      <td>NaN</td>\n      <td>NaN</td>\n      <td>NaN</td>\n      <td>NaN</td>\n      <td>NaN</td>\n      <td>NaN</td>\n      <td>NaN</td>\n    </tr>\n    <tr>\n      <th>19-09-07</th>\n      <td>4732.35</td>\n      <td>13815.56</td>\n      <td>1529.03</td>\n      <td>2666.48</td>\n      <td>78.47</td>\n      <td>4.52</td>\n      <td>722.0</td>\n      <td>40.03</td>\n      <td>79.30</td>\n      <td>7401.85</td>\n      <td>4667.30</td>\n      <td>NaN</td>\n      <td>NaN</td>\n      <td>NaN</td>\n      <td>NaN</td>\n      <td>NaN</td>\n      <td>NaN</td>\n      <td>NaN</td>\n      <td>NaN</td>\n    </tr>\n    <tr>\n      <th>20-09-07</th>\n      <td>4747.55</td>\n      <td>13766.70</td>\n      <td>1518.75</td>\n      <td>2654.29</td>\n      <td>79.09</td>\n      <td>4.67</td>\n      <td>732.4</td>\n      <td>39.62</td>\n      <td>78.58</td>\n      <td>7390.15</td>\n      <td>4566.05</td>\n      <td>NaN</td>\n      <td>NaN</td>\n      <td>NaN</td>\n      <td>NaN</td>\n      <td>NaN</td>\n      <td>NaN</td>\n      <td>NaN</td>\n      <td>NaN</td>\n    </tr>\n    <tr>\n      <th>21-09-07</th>\n      <td>4837.55</td>\n      <td>13820.19</td>\n      <td>1525.75</td>\n      <td>2671.22</td>\n      <td>79.30</td>\n      <td>4.63</td>\n      <td>731.4</td>\n      <td>39.77</td>\n      <td>78.60</td>\n      <td>7464.50</td>\n      <td>4603.85</td>\n      <td>NaN</td>\n      <td>NaN</td>\n      <td>NaN</td>\n      <td>NaN</td>\n      <td>NaN</td>\n      <td>NaN</td>\n      <td>NaN</td>\n      <td>NaN</td>\n    </tr>\n    <tr>\n      <th>...</th>\n      <td>...</td>\n      <td>...</td>\n      <td>...</td>\n      <td>...</td>\n      <td>...</td>\n      <td>...</td>\n      <td>...</td>\n      <td>...</td>\n      <td>...</td>\n      <td>...</td>\n      <td>...</td>\n      <td>...</td>\n      <td>...</td>\n      <td>...</td>\n      <td>...</td>\n      <td>...</td>\n      <td>...</td>\n      <td>...</td>\n      <td>...</td>\n    </tr>\n    <tr>\n      <th>25-04-23</th>\n      <td>17769.25</td>\n      <td>33530.83</td>\n      <td>4071.63</td>\n      <td>11799.16</td>\n      <td>80.77</td>\n      <td>3.40</td>\n      <td>1994.0</td>\n      <td>81.85</td>\n      <td>101.86</td>\n      <td>42678.50</td>\n      <td>26985.80</td>\n      <td>12904.55</td>\n      <td>5738.25</td>\n      <td>47051.85</td>\n      <td>23385.75</td>\n      <td>18961.85</td>\n      <td>5226.55</td>\n      <td>5686.90</td>\n      <td>7384.85</td>\n    </tr>\n    <tr>\n      <th>26-04-23</th>\n      <td>17813.60</td>\n      <td>33301.87</td>\n      <td>4055.99</td>\n      <td>11854.35</td>\n      <td>77.69</td>\n      <td>3.43</td>\n      <td>1985.7</td>\n      <td>81.99</td>\n      <td>101.47</td>\n      <td>42829.90</td>\n      <td>27065.00</td>\n      <td>12972.75</td>\n      <td>5713.20</td>\n      <td>47387.50</td>\n      <td>23365.80</td>\n      <td>19003.00</td>\n      <td>5246.50</td>\n      <td>5678.65</td>\n      <td>7411.85</td>\n    </tr>\n    <tr>\n      <th>27-04-23</th>\n      <td>17915.05</td>\n      <td>33826.16</td>\n      <td>4135.35</td>\n      <td>12142.24</td>\n      <td>78.37</td>\n      <td>3.53</td>\n      <td>1989.9</td>\n      <td>81.77</td>\n      <td>101.50</td>\n      <td>43000.85</td>\n      <td>27355.25</td>\n      <td>13071.80</td>\n      <td>5753.75</td>\n      <td>47360.15</td>\n      <td>23443.65</td>\n      <td>19097.15</td>\n      <td>5279.10</td>\n      <td>5712.80</td>\n      <td>7439.20</td>\n    </tr>\n    <tr>\n      <th>28-04-23</th>\n      <td>18065.00</td>\n      <td>34098.16</td>\n      <td>4169.48</td>\n      <td>12226.58</td>\n      <td>79.54</td>\n      <td>3.45</td>\n      <td>1990.1</td>\n      <td>81.77</td>\n      <td>101.67</td>\n      <td>43233.90</td>\n      <td>27708.20</td>\n      <td>13189.25</td>\n      <td>5799.40</td>\n      <td>47814.10</td>\n      <td>23734.55</td>\n      <td>19162.55</td>\n      <td>5356.20</td>\n      <td>5781.65</td>\n      <td>7502.05</td>\n    </tr>\n    <tr>\n      <th>02-05-23</th>\n      <td>18147.65</td>\n      <td>33684.53</td>\n      <td>4119.58</td>\n      <td>12080.51</td>\n      <td>75.32</td>\n      <td>3.44</td>\n      <td>2014.3</td>\n      <td>NaN</td>\n      <td>101.96</td>\n      <td>43352.10</td>\n      <td>28025.00</td>\n      <td>13283.15</td>\n      <td>5882.00</td>\n      <td>47750.20</td>\n      <td>24046.95</td>\n      <td>19208.05</td>\n      <td>5387.20</td>\n      <td>5845.25</td>\n      <td>7522.65</td>\n    </tr>\n  </tbody>\n</table>\n<p>3827 rows × 19 columns</p>\n</div>"
     },
     "execution_count": 18,
     "metadata": {},
     "output_type": "execute_result"
    }
   ],
   "source": [
    "Factors"
   ],
   "metadata": {
    "collapsed": false,
    "pycharm": {
     "name": "#%%\n"
    }
   }
  },
  {
   "cell_type": "code",
   "execution_count": 19,
   "outputs": [
    {
     "data": {
      "text/plain": "          Nifty_50  Dow_Jons  SPX_500    NASDAQ  BRENT  BOND_10Y    Gold  \\\nDate                                                                       \n17-09-07   4494.65  13403.42  1476.65   2581.66  76.98      4.47   715.8   \n18-09-07   4546.20  13739.39  1519.78   2651.66  77.59      4.48   715.8   \n19-09-07   4732.35  13815.56  1529.03   2666.48  78.47      4.52   722.0   \n20-09-07   4747.55  13766.70  1518.75   2654.29  79.09      4.67   732.4   \n21-09-07   4837.55  13820.19  1525.75   2671.22  79.30      4.63   731.4   \n...            ...       ...      ...       ...    ...       ...     ...   \n25-04-23  17769.25  33530.83  4071.63  11799.16  80.77      3.40  1994.0   \n26-04-23  17813.60  33301.87  4055.99  11854.35  77.69      3.43  1985.7   \n27-04-23  17915.05  33826.16  4135.35  12142.24  78.37      3.53  1989.9   \n28-04-23  18065.00  34098.16  4169.48  12226.58  79.54      3.45  1990.1   \n02-05-23  18147.65  33684.53  4119.58  12080.51  75.32      3.44  2014.3   \n\n          Inr_Usd  Dollar_Index  Bank_Nifty  Nifty_IT  Nifty_Auto  \\\nDate                                                                \n17-09-07    40.38         79.72     6897.10   4573.55     6254.53   \n18-09-07    40.22         79.21     7059.65   4576.75     6254.53   \n19-09-07    40.03         79.30     7401.85   4667.30     6254.53   \n20-09-07    39.62         78.58     7390.15   4566.05     6254.53   \n21-09-07    39.77         78.60     7464.50   4603.85     6254.53   \n...           ...           ...         ...       ...         ...   \n25-04-23    81.85        101.86    42678.50  26985.80    12904.55   \n26-04-23    81.99        101.47    42829.90  27065.00    12972.75   \n27-04-23    81.77        101.50    43000.85  27355.25    13071.80   \n28-04-23    81.77        101.67    43233.90  27708.20    13189.25   \n02-05-23    81.77        101.96    43352.10  28025.00    13283.15   \n\n          Nifty_Metal  Nifty_FMGC  Nifty_Energy  NIFTY_FIN_SERVICE  \\\nDate                                                                 \n17-09-07      2459.24    19407.67      10274.00            7458.83   \n18-09-07      2459.24    19407.67      10274.00            7458.83   \n19-09-07      2459.24    19407.67      10274.00            7458.83   \n20-09-07      2459.24    19407.67      10274.00            7458.83   \n21-09-07      2459.24    19407.67      10274.00            7458.83   \n...               ...         ...           ...                ...   \n25-04-23      5738.25    47051.85      23385.75           18961.85   \n26-04-23      5713.20    47387.50      23365.80           19003.00   \n27-04-23      5753.75    47360.15      23443.65           19097.15   \n28-04-23      5799.40    47814.10      23734.55           19162.55   \n02-05-23      5882.00    47750.20      24046.95           19208.05   \n\n          Nifty_Infra  Nifty_CMDT  Nifty_Consumer  \nDate                                               \n17-09-07      2685.42     2549.24         3233.10  \n18-09-07      2685.42     2549.24         3233.10  \n19-09-07      2685.42     2549.24         3233.10  \n20-09-07      2685.42     2549.24         3233.10  \n21-09-07      2685.42     2549.24         3233.10  \n...               ...         ...             ...  \n25-04-23      5226.55     5686.90         7384.85  \n26-04-23      5246.50     5678.65         7411.85  \n27-04-23      5279.10     5712.80         7439.20  \n28-04-23      5356.20     5781.65         7502.05  \n02-05-23      5387.20     5845.25         7522.65  \n\n[3827 rows x 19 columns]",
      "text/html": "<div>\n<style scoped>\n    .dataframe tbody tr th:only-of-type {\n        vertical-align: middle;\n    }\n\n    .dataframe tbody tr th {\n        vertical-align: top;\n    }\n\n    .dataframe thead th {\n        text-align: right;\n    }\n</style>\n<table border=\"1\" class=\"dataframe\">\n  <thead>\n    <tr style=\"text-align: right;\">\n      <th></th>\n      <th>Nifty_50</th>\n      <th>Dow_Jons</th>\n      <th>SPX_500</th>\n      <th>NASDAQ</th>\n      <th>BRENT</th>\n      <th>BOND_10Y</th>\n      <th>Gold</th>\n      <th>Inr_Usd</th>\n      <th>Dollar_Index</th>\n      <th>Bank_Nifty</th>\n      <th>Nifty_IT</th>\n      <th>Nifty_Auto</th>\n      <th>Nifty_Metal</th>\n      <th>Nifty_FMGC</th>\n      <th>Nifty_Energy</th>\n      <th>NIFTY_FIN_SERVICE</th>\n      <th>Nifty_Infra</th>\n      <th>Nifty_CMDT</th>\n      <th>Nifty_Consumer</th>\n    </tr>\n    <tr>\n      <th>Date</th>\n      <th></th>\n      <th></th>\n      <th></th>\n      <th></th>\n      <th></th>\n      <th></th>\n      <th></th>\n      <th></th>\n      <th></th>\n      <th></th>\n      <th></th>\n      <th></th>\n      <th></th>\n      <th></th>\n      <th></th>\n      <th></th>\n      <th></th>\n      <th></th>\n      <th></th>\n    </tr>\n  </thead>\n  <tbody>\n    <tr>\n      <th>17-09-07</th>\n      <td>4494.65</td>\n      <td>13403.42</td>\n      <td>1476.65</td>\n      <td>2581.66</td>\n      <td>76.98</td>\n      <td>4.47</td>\n      <td>715.8</td>\n      <td>40.38</td>\n      <td>79.72</td>\n      <td>6897.10</td>\n      <td>4573.55</td>\n      <td>6254.53</td>\n      <td>2459.24</td>\n      <td>19407.67</td>\n      <td>10274.00</td>\n      <td>7458.83</td>\n      <td>2685.42</td>\n      <td>2549.24</td>\n      <td>3233.10</td>\n    </tr>\n    <tr>\n      <th>18-09-07</th>\n      <td>4546.20</td>\n      <td>13739.39</td>\n      <td>1519.78</td>\n      <td>2651.66</td>\n      <td>77.59</td>\n      <td>4.48</td>\n      <td>715.8</td>\n      <td>40.22</td>\n      <td>79.21</td>\n      <td>7059.65</td>\n      <td>4576.75</td>\n      <td>6254.53</td>\n      <td>2459.24</td>\n      <td>19407.67</td>\n      <td>10274.00</td>\n      <td>7458.83</td>\n      <td>2685.42</td>\n      <td>2549.24</td>\n      <td>3233.10</td>\n    </tr>\n    <tr>\n      <th>19-09-07</th>\n      <td>4732.35</td>\n      <td>13815.56</td>\n      <td>1529.03</td>\n      <td>2666.48</td>\n      <td>78.47</td>\n      <td>4.52</td>\n      <td>722.0</td>\n      <td>40.03</td>\n      <td>79.30</td>\n      <td>7401.85</td>\n      <td>4667.30</td>\n      <td>6254.53</td>\n      <td>2459.24</td>\n      <td>19407.67</td>\n      <td>10274.00</td>\n      <td>7458.83</td>\n      <td>2685.42</td>\n      <td>2549.24</td>\n      <td>3233.10</td>\n    </tr>\n    <tr>\n      <th>20-09-07</th>\n      <td>4747.55</td>\n      <td>13766.70</td>\n      <td>1518.75</td>\n      <td>2654.29</td>\n      <td>79.09</td>\n      <td>4.67</td>\n      <td>732.4</td>\n      <td>39.62</td>\n      <td>78.58</td>\n      <td>7390.15</td>\n      <td>4566.05</td>\n      <td>6254.53</td>\n      <td>2459.24</td>\n      <td>19407.67</td>\n      <td>10274.00</td>\n      <td>7458.83</td>\n      <td>2685.42</td>\n      <td>2549.24</td>\n      <td>3233.10</td>\n    </tr>\n    <tr>\n      <th>21-09-07</th>\n      <td>4837.55</td>\n      <td>13820.19</td>\n      <td>1525.75</td>\n      <td>2671.22</td>\n      <td>79.30</td>\n      <td>4.63</td>\n      <td>731.4</td>\n      <td>39.77</td>\n      <td>78.60</td>\n      <td>7464.50</td>\n      <td>4603.85</td>\n      <td>6254.53</td>\n      <td>2459.24</td>\n      <td>19407.67</td>\n      <td>10274.00</td>\n      <td>7458.83</td>\n      <td>2685.42</td>\n      <td>2549.24</td>\n      <td>3233.10</td>\n    </tr>\n    <tr>\n      <th>...</th>\n      <td>...</td>\n      <td>...</td>\n      <td>...</td>\n      <td>...</td>\n      <td>...</td>\n      <td>...</td>\n      <td>...</td>\n      <td>...</td>\n      <td>...</td>\n      <td>...</td>\n      <td>...</td>\n      <td>...</td>\n      <td>...</td>\n      <td>...</td>\n      <td>...</td>\n      <td>...</td>\n      <td>...</td>\n      <td>...</td>\n      <td>...</td>\n    </tr>\n    <tr>\n      <th>25-04-23</th>\n      <td>17769.25</td>\n      <td>33530.83</td>\n      <td>4071.63</td>\n      <td>11799.16</td>\n      <td>80.77</td>\n      <td>3.40</td>\n      <td>1994.0</td>\n      <td>81.85</td>\n      <td>101.86</td>\n      <td>42678.50</td>\n      <td>26985.80</td>\n      <td>12904.55</td>\n      <td>5738.25</td>\n      <td>47051.85</td>\n      <td>23385.75</td>\n      <td>18961.85</td>\n      <td>5226.55</td>\n      <td>5686.90</td>\n      <td>7384.85</td>\n    </tr>\n    <tr>\n      <th>26-04-23</th>\n      <td>17813.60</td>\n      <td>33301.87</td>\n      <td>4055.99</td>\n      <td>11854.35</td>\n      <td>77.69</td>\n      <td>3.43</td>\n      <td>1985.7</td>\n      <td>81.99</td>\n      <td>101.47</td>\n      <td>42829.90</td>\n      <td>27065.00</td>\n      <td>12972.75</td>\n      <td>5713.20</td>\n      <td>47387.50</td>\n      <td>23365.80</td>\n      <td>19003.00</td>\n      <td>5246.50</td>\n      <td>5678.65</td>\n      <td>7411.85</td>\n    </tr>\n    <tr>\n      <th>27-04-23</th>\n      <td>17915.05</td>\n      <td>33826.16</td>\n      <td>4135.35</td>\n      <td>12142.24</td>\n      <td>78.37</td>\n      <td>3.53</td>\n      <td>1989.9</td>\n      <td>81.77</td>\n      <td>101.50</td>\n      <td>43000.85</td>\n      <td>27355.25</td>\n      <td>13071.80</td>\n      <td>5753.75</td>\n      <td>47360.15</td>\n      <td>23443.65</td>\n      <td>19097.15</td>\n      <td>5279.10</td>\n      <td>5712.80</td>\n      <td>7439.20</td>\n    </tr>\n    <tr>\n      <th>28-04-23</th>\n      <td>18065.00</td>\n      <td>34098.16</td>\n      <td>4169.48</td>\n      <td>12226.58</td>\n      <td>79.54</td>\n      <td>3.45</td>\n      <td>1990.1</td>\n      <td>81.77</td>\n      <td>101.67</td>\n      <td>43233.90</td>\n      <td>27708.20</td>\n      <td>13189.25</td>\n      <td>5799.40</td>\n      <td>47814.10</td>\n      <td>23734.55</td>\n      <td>19162.55</td>\n      <td>5356.20</td>\n      <td>5781.65</td>\n      <td>7502.05</td>\n    </tr>\n    <tr>\n      <th>02-05-23</th>\n      <td>18147.65</td>\n      <td>33684.53</td>\n      <td>4119.58</td>\n      <td>12080.51</td>\n      <td>75.32</td>\n      <td>3.44</td>\n      <td>2014.3</td>\n      <td>81.77</td>\n      <td>101.96</td>\n      <td>43352.10</td>\n      <td>28025.00</td>\n      <td>13283.15</td>\n      <td>5882.00</td>\n      <td>47750.20</td>\n      <td>24046.95</td>\n      <td>19208.05</td>\n      <td>5387.20</td>\n      <td>5845.25</td>\n      <td>7522.65</td>\n    </tr>\n  </tbody>\n</table>\n<p>3827 rows × 19 columns</p>\n</div>"
     },
     "execution_count": 19,
     "metadata": {},
     "output_type": "execute_result"
    }
   ],
   "source": [
    "Factors.fillna(0, inplace=True)\n",
    "for column in Factors.columns:\n",
    "    for i in range(len(Factors[column])):\n",
    "        if Factors[column].iloc[i] == 0:\n",
    "            if i == 0:\n",
    "                continue\n",
    "            else:\n",
    "                Factors[column].iloc[i] = Factors[column].iloc[i-1]\n",
    "        else:\n",
    "            continue\n",
    "    Factors[column] = Factors[column].replace(0, np.nan).fillna(Factors[column].mean())\n",
    "Factors = Factors.round(2)\n",
    "Factors"
   ],
   "metadata": {
    "collapsed": false,
    "pycharm": {
     "name": "#%%\n"
    }
   }
  },
  {
   "cell_type": "code",
   "execution_count": 20,
   "outputs": [
    {
     "data": {
      "text/plain": "Nifty_50             3778\nDow_Jons             3716\nSPX_500              3709\nNASDAQ               3715\nBRENT                2959\nBOND_10Y              393\nGold                 3023\nInr_Usd              2160\nDollar_Index         2069\nBank_Nifty           3541\nNifty_IT             3518\nNifty_Auto           2845\nNifty_Metal          2801\nNifty_FMGC           2982\nNifty_Energy         2964\nNIFTY_FIN_SERVICE    2825\nNifty_Infra          2992\nNifty_CMDT           2776\nNifty_Consumer       2815\ndtype: int64"
     },
     "execution_count": 20,
     "metadata": {},
     "output_type": "execute_result"
    }
   ],
   "source": [
    "Factors.nunique()"
   ],
   "metadata": {
    "collapsed": false,
    "pycharm": {
     "name": "#%%\n"
    }
   }
  },
  {
   "cell_type": "code",
   "execution_count": 21,
   "outputs": [],
   "source": [
    "for col in Factors.columns:\n",
    "    Factors[f'{col}_1d_return'] = Factors[col].pct_change(periods=1)\n",
    "    Factors[f'{col}_1d_return'] = Factors[f'{col}_1d_return'].pct_change(periods=1)"
   ],
   "metadata": {
    "collapsed": false,
    "pycharm": {
     "name": "#%%\n"
    }
   }
  },
  {
   "cell_type": "code",
   "execution_count": 22,
   "outputs": [
    {
     "data": {
      "text/plain": "Index(['Nifty_50', 'Dow_Jons', 'SPX_500', 'NASDAQ', 'BRENT', 'BOND_10Y',\n       'Gold', 'Inr_Usd', 'Dollar_Index', 'Bank_Nifty', 'Nifty_IT',\n       'Nifty_Auto', 'Nifty_Metal', 'Nifty_FMGC', 'Nifty_Energy',\n       'NIFTY_FIN_SERVICE', 'Nifty_Infra', 'Nifty_CMDT', 'Nifty_Consumer',\n       'Nifty_50_1d_return', 'Dow_Jons_1d_return', 'SPX_500_1d_return',\n       'NASDAQ_1d_return', 'BRENT_1d_return', 'BOND_10Y_1d_return',\n       'Gold_1d_return', 'Inr_Usd_1d_return', 'Dollar_Index_1d_return',\n       'Bank_Nifty_1d_return', 'Nifty_IT_1d_return', 'Nifty_Auto_1d_return',\n       'Nifty_Metal_1d_return', 'Nifty_FMGC_1d_return',\n       'Nifty_Energy_1d_return', 'NIFTY_FIN_SERVICE_1d_return',\n       'Nifty_Infra_1d_return', 'Nifty_CMDT_1d_return',\n       'Nifty_Consumer_1d_return'],\n      dtype='object')"
     },
     "execution_count": 22,
     "metadata": {},
     "output_type": "execute_result"
    }
   ],
   "source": [
    "Factors.columns"
   ],
   "metadata": {
    "collapsed": false,
    "pycharm": {
     "name": "#%%\n"
    }
   }
  },
  {
   "cell_type": "code",
   "execution_count": 25,
   "outputs": [
    {
     "data": {
      "text/plain": "          Nifty_50_1d_return  Dow_Jons_1d_return  SPX_500_1d_return  \\\nDate                                                                  \n08-09-11               -0.53               -1.42              -1.37   \n13-09-11               -0.95               -0.36               0.31   \n14-09-11              -13.25                2.14               0.48   \n15-09-11               -0.13                0.31               0.28   \n16-09-11               -0.87               -0.60              -0.67   \n...                      ...                 ...                ...   \n24-04-23             -299.38                1.97              -0.06   \n25-04-23               -0.78               -6.18             -19.57   \n26-04-23                0.71               -0.33              -0.76   \n27-04-23                1.28               -3.31              -6.09   \n28-04-23                0.47               -0.49              -0.58   \n\n          NASDAQ_1d_return  BRENT_1d_return  BOND_10Y_1d_return  \\\nDate                                                              \n08-09-11             -1.26            -1.42               -1.81   \n13-09-11              0.35            -0.30                1.97   \n14-09-11              0.07            -2.42               -0.68   \n15-09-11             -0.16             4.74                2.96   \n16-09-11             -0.56            -2.03               -1.12   \n...                    ...              ...                 ...   \n24-04-23             -3.73             0.90               -3.49   \n25-04-23              5.77            -2.81                1.43   \n26-04-23             -1.24             0.61               -1.26   \n27-04-23              4.19            -1.23                2.30   \n28-04-23             -0.71             0.71               -1.78   \n\n          Gold_1d_return  Inr_Usd_1d_return  Dollar_Index_1d_return  \\\nDate                                                                  \n08-09-11           -1.74              -1.00                   -2.71   \n13-09-11           -1.37               0.01                   -2.73   \n14-09-11           -1.19              -0.43                   -0.88   \n15-09-11           12.66              -0.67                    6.38   \n16-09-11           -1.77              -1.60                   -1.58   \n...                  ...                ...                     ...   \n24-04-23           -1.35              -0.55                   22.50   \n25-04-23           -0.49               1.22                   -2.09   \n26-04-23           -2.69              -1.70                   -1.76   \n27-04-23           -1.51              -2.57                   -1.08   \n28-04-23           -0.95              -1.00                    4.66   \n\n          Bank_Nifty_1d_return  Nifty_IT_1d_return  Nifty_Auto_1d_return  \\\nDate                                                                       \n08-09-11                 -0.70                8.26                  0.42   \n13-09-11                 -0.80               -1.27                  1.72   \n14-09-11                 -3.40                3.66                 -0.71   \n15-09-11                  0.40               -0.46                 -5.15   \n16-09-11                 -0.69               -1.44                 -0.69   \n...                        ...                 ...                   ...   \n24-04-23                 -4.43                0.03                 -0.96   \n25-04-23                 -0.92               -1.14                 -3.07   \n26-04-23                  2.54               -3.85                  5.08   \n27-04-23                  0.13                2.65                  0.44   \n28-04-23                  0.36                0.20                  0.18   \n\n          Nifty_Metal_1d_return  Nifty_FMGC_1d_return  Nifty_Energy_1d_return  \\\nDate                                                                            \n08-09-11                  -1.46                 -0.27                   -0.34   \n13-09-11                   0.03                 -0.86                   -1.16   \n14-09-11                  -1.07                -91.91                    3.21   \n15-09-11                   8.29                 -1.20                   -0.03   \n16-09-11                  -0.91                  3.86                   -0.64   \n...                         ...                   ...                     ...   \n24-04-23                  -1.33                 -0.35                  108.75   \n25-04-23                   0.37                 -0.60                    7.12   \n26-04-23                  -1.71                  2.08                   -1.11   \n27-04-23                  -2.63                 -1.08                   -4.91   \n28-04-23                   0.12                -17.61                    2.72   \n\n          NIFTY_FIN_SERVICE_1d_return  Nifty_Infra_1d_return  \\\nDate                                                           \n08-09-11                        -1.00                  -0.83   \n13-09-11                         0.42                  -0.88   \n14-09-11                        -0.79                   0.02   \n15-09-11                        -2.90                  -2.51   \n16-09-11                         1.62                   0.43   \n...                               ...                    ...   \n24-04-23                        -7.56                  -2.08   \n25-04-23                        -1.13                   0.35   \n26-04-23                        -2.33                  -0.39   \n27-04-23                         1.28                   0.63   \n28-04-23                        -0.31                   1.35   \n\n          Nifty_CMDT_1d_return  Nifty_Consumer_1d_return  \nDate                                                      \n08-09-11                 -0.81                     -1.19  \n13-09-11                 -0.26                      0.88  \n14-09-11                 -1.14                     -0.63  \n15-09-11                  5.99                     -3.54  \n16-09-11                 -0.60                     -1.61  \n...                        ...                       ...  \n24-04-23                 -1.79                      3.18  \n25-04-23                 -0.27                      0.05  \n26-04-23                 -1.47                      0.29  \n27-04-23                 -5.15                      0.01  \n28-04-23                  1.00                      1.29  \n\n[2138 rows x 19 columns]",
      "text/html": "<div>\n<style scoped>\n    .dataframe tbody tr th:only-of-type {\n        vertical-align: middle;\n    }\n\n    .dataframe tbody tr th {\n        vertical-align: top;\n    }\n\n    .dataframe thead th {\n        text-align: right;\n    }\n</style>\n<table border=\"1\" class=\"dataframe\">\n  <thead>\n    <tr style=\"text-align: right;\">\n      <th></th>\n      <th>Nifty_50_1d_return</th>\n      <th>Dow_Jons_1d_return</th>\n      <th>SPX_500_1d_return</th>\n      <th>NASDAQ_1d_return</th>\n      <th>BRENT_1d_return</th>\n      <th>BOND_10Y_1d_return</th>\n      <th>Gold_1d_return</th>\n      <th>Inr_Usd_1d_return</th>\n      <th>Dollar_Index_1d_return</th>\n      <th>Bank_Nifty_1d_return</th>\n      <th>Nifty_IT_1d_return</th>\n      <th>Nifty_Auto_1d_return</th>\n      <th>Nifty_Metal_1d_return</th>\n      <th>Nifty_FMGC_1d_return</th>\n      <th>Nifty_Energy_1d_return</th>\n      <th>NIFTY_FIN_SERVICE_1d_return</th>\n      <th>Nifty_Infra_1d_return</th>\n      <th>Nifty_CMDT_1d_return</th>\n      <th>Nifty_Consumer_1d_return</th>\n    </tr>\n    <tr>\n      <th>Date</th>\n      <th></th>\n      <th></th>\n      <th></th>\n      <th></th>\n      <th></th>\n      <th></th>\n      <th></th>\n      <th></th>\n      <th></th>\n      <th></th>\n      <th></th>\n      <th></th>\n      <th></th>\n      <th></th>\n      <th></th>\n      <th></th>\n      <th></th>\n      <th></th>\n      <th></th>\n    </tr>\n  </thead>\n  <tbody>\n    <tr>\n      <th>08-09-11</th>\n      <td>-0.53</td>\n      <td>-1.42</td>\n      <td>-1.37</td>\n      <td>-1.26</td>\n      <td>-1.42</td>\n      <td>-1.81</td>\n      <td>-1.74</td>\n      <td>-1.00</td>\n      <td>-2.71</td>\n      <td>-0.70</td>\n      <td>8.26</td>\n      <td>0.42</td>\n      <td>-1.46</td>\n      <td>-0.27</td>\n      <td>-0.34</td>\n      <td>-1.00</td>\n      <td>-0.83</td>\n      <td>-0.81</td>\n      <td>-1.19</td>\n    </tr>\n    <tr>\n      <th>13-09-11</th>\n      <td>-0.95</td>\n      <td>-0.36</td>\n      <td>0.31</td>\n      <td>0.35</td>\n      <td>-0.30</td>\n      <td>1.97</td>\n      <td>-1.37</td>\n      <td>0.01</td>\n      <td>-2.73</td>\n      <td>-0.80</td>\n      <td>-1.27</td>\n      <td>1.72</td>\n      <td>0.03</td>\n      <td>-0.86</td>\n      <td>-1.16</td>\n      <td>0.42</td>\n      <td>-0.88</td>\n      <td>-0.26</td>\n      <td>0.88</td>\n    </tr>\n    <tr>\n      <th>14-09-11</th>\n      <td>-13.25</td>\n      <td>2.14</td>\n      <td>0.48</td>\n      <td>0.07</td>\n      <td>-2.42</td>\n      <td>-0.68</td>\n      <td>-1.19</td>\n      <td>-0.43</td>\n      <td>-0.88</td>\n      <td>-3.40</td>\n      <td>3.66</td>\n      <td>-0.71</td>\n      <td>-1.07</td>\n      <td>-91.91</td>\n      <td>3.21</td>\n      <td>-0.79</td>\n      <td>0.02</td>\n      <td>-1.14</td>\n      <td>-0.63</td>\n    </tr>\n    <tr>\n      <th>15-09-11</th>\n      <td>-0.13</td>\n      <td>0.31</td>\n      <td>0.28</td>\n      <td>-0.16</td>\n      <td>4.74</td>\n      <td>2.96</td>\n      <td>12.66</td>\n      <td>-0.67</td>\n      <td>6.38</td>\n      <td>0.40</td>\n      <td>-0.46</td>\n      <td>-5.15</td>\n      <td>8.29</td>\n      <td>-1.20</td>\n      <td>-0.03</td>\n      <td>-2.90</td>\n      <td>-2.51</td>\n      <td>5.99</td>\n      <td>-3.54</td>\n    </tr>\n    <tr>\n      <th>16-09-11</th>\n      <td>-0.87</td>\n      <td>-0.60</td>\n      <td>-0.67</td>\n      <td>-0.56</td>\n      <td>-2.03</td>\n      <td>-1.12</td>\n      <td>-1.77</td>\n      <td>-1.60</td>\n      <td>-1.58</td>\n      <td>-0.69</td>\n      <td>-1.44</td>\n      <td>-0.69</td>\n      <td>-0.91</td>\n      <td>3.86</td>\n      <td>-0.64</td>\n      <td>1.62</td>\n      <td>0.43</td>\n      <td>-0.60</td>\n      <td>-1.61</td>\n    </tr>\n    <tr>\n      <th>...</th>\n      <td>...</td>\n      <td>...</td>\n      <td>...</td>\n      <td>...</td>\n      <td>...</td>\n      <td>...</td>\n      <td>...</td>\n      <td>...</td>\n      <td>...</td>\n      <td>...</td>\n      <td>...</td>\n      <td>...</td>\n      <td>...</td>\n      <td>...</td>\n      <td>...</td>\n      <td>...</td>\n      <td>...</td>\n      <td>...</td>\n      <td>...</td>\n    </tr>\n    <tr>\n      <th>24-04-23</th>\n      <td>-299.38</td>\n      <td>1.97</td>\n      <td>-0.06</td>\n      <td>-3.73</td>\n      <td>0.90</td>\n      <td>-3.49</td>\n      <td>-1.35</td>\n      <td>-0.55</td>\n      <td>22.50</td>\n      <td>-4.43</td>\n      <td>0.03</td>\n      <td>-0.96</td>\n      <td>-1.33</td>\n      <td>-0.35</td>\n      <td>108.75</td>\n      <td>-7.56</td>\n      <td>-2.08</td>\n      <td>-1.79</td>\n      <td>3.18</td>\n    </tr>\n    <tr>\n      <th>25-04-23</th>\n      <td>-0.78</td>\n      <td>-6.18</td>\n      <td>-19.57</td>\n      <td>5.77</td>\n      <td>-2.81</td>\n      <td>1.43</td>\n      <td>-0.49</td>\n      <td>1.22</td>\n      <td>-2.09</td>\n      <td>-0.92</td>\n      <td>-1.14</td>\n      <td>-3.07</td>\n      <td>0.37</td>\n      <td>-0.60</td>\n      <td>7.12</td>\n      <td>-1.13</td>\n      <td>0.35</td>\n      <td>-0.27</td>\n      <td>0.05</td>\n    </tr>\n    <tr>\n      <th>26-04-23</th>\n      <td>0.71</td>\n      <td>-0.33</td>\n      <td>-0.76</td>\n      <td>-1.24</td>\n      <td>0.61</td>\n      <td>-1.26</td>\n      <td>-2.69</td>\n      <td>-1.70</td>\n      <td>-1.76</td>\n      <td>2.54</td>\n      <td>-3.85</td>\n      <td>5.08</td>\n      <td>-1.71</td>\n      <td>2.08</td>\n      <td>-1.11</td>\n      <td>-2.33</td>\n      <td>-0.39</td>\n      <td>-1.47</td>\n      <td>0.29</td>\n    </tr>\n    <tr>\n      <th>27-04-23</th>\n      <td>1.28</td>\n      <td>-3.31</td>\n      <td>-6.09</td>\n      <td>4.19</td>\n      <td>-1.23</td>\n      <td>2.30</td>\n      <td>-1.51</td>\n      <td>-2.57</td>\n      <td>-1.08</td>\n      <td>0.13</td>\n      <td>2.65</td>\n      <td>0.44</td>\n      <td>-2.63</td>\n      <td>-1.08</td>\n      <td>-4.91</td>\n      <td>1.28</td>\n      <td>0.63</td>\n      <td>-5.15</td>\n      <td>0.01</td>\n    </tr>\n    <tr>\n      <th>28-04-23</th>\n      <td>0.47</td>\n      <td>-0.49</td>\n      <td>-0.58</td>\n      <td>-0.71</td>\n      <td>0.71</td>\n      <td>-1.78</td>\n      <td>-0.95</td>\n      <td>-1.00</td>\n      <td>4.66</td>\n      <td>0.36</td>\n      <td>0.20</td>\n      <td>0.18</td>\n      <td>0.12</td>\n      <td>-17.61</td>\n      <td>2.72</td>\n      <td>-0.31</td>\n      <td>1.35</td>\n      <td>1.00</td>\n      <td>1.29</td>\n    </tr>\n  </tbody>\n</table>\n<p>2138 rows × 19 columns</p>\n</div>"
     },
     "execution_count": 25,
     "metadata": {},
     "output_type": "execute_result"
    }
   ],
   "source": [
    "return_1d = Factors.drop(columns=['Nifty_50', 'Dow_Jons', 'SPX_500', 'NASDAQ', 'BRENT', 'BOND_10Y',\n",
    "       'Gold', 'Inr_Usd', 'Dollar_Index', 'Bank_Nifty', 'Nifty_IT',\n",
    "       'Nifty_Auto', 'Nifty_Metal', 'Nifty_FMGC', 'Nifty_Energy',\n",
    "       'NIFTY_FIN_SERVICE', 'Nifty_Infra', 'Nifty_CMDT', 'Nifty_Consumer',])\n",
    "return_1d.replace([np.inf, -np.inf], np.nan, inplace=True)\n",
    "return_1d = return_1d.dropna()\n",
    "return_1d = return_1d.round(2)\n",
    "return_1d"
   ],
   "metadata": {
    "collapsed": false,
    "pycharm": {
     "name": "#%%\n"
    }
   }
  },
  {
   "cell_type": "code",
   "execution_count": 26,
   "outputs": [],
   "source": [
    "\n",
    "with open('return_1d.pkl', 'wb') as fh:\n",
    "   pickle.dump(return_1d, fh)\n",
    "\n",
    "\n"
   ],
   "metadata": {
    "collapsed": false,
    "pycharm": {
     "name": "#%%\n"
    }
   }
  }
 ],
 "metadata": {
  "kernelspec": {
   "display_name": "Python 3",
   "language": "python",
   "name": "python3"
  },
  "language_info": {
   "codemirror_mode": {
    "name": "ipython",
    "version": 2
   },
   "file_extension": ".py",
   "mimetype": "text/x-python",
   "name": "python",
   "nbconvert_exporter": "python",
   "pygments_lexer": "ipython2",
   "version": "2.7.6"
  }
 },
 "nbformat": 4,
 "nbformat_minor": 0
}